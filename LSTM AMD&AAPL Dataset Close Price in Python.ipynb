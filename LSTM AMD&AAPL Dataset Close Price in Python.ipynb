{
  "cells": [
    {
      "cell_type": "markdown",
      "metadata": {
        "id": "j4SA8zONajxw"
      },
      "source": [
        "Naufal Rasyid Sutansyah\n",
        "\n"
      ]
    },
    {
      "cell_type": "code",
      "execution_count": 1,
      "metadata": {
        "id": "14TUHx5xyVAA"
      },
      "outputs": [],
      "source": [
        "import numpy as np\n",
        "import pandas as pd\n",
        "import matplotlib.pyplot as plt # plotting\n",
        "import seaborn as sns\n",
        "from sklearn.model_selection import train_test_split\n",
        "from sklearn.preprocessing import MinMaxScaler\n",
        "from keras.models import Sequential\n",
        "from keras.layers import LSTM, Dense\n",
        "from tensorflow.keras.activations import relu\n",
        "from tensorflow.keras.optimizers import Adam\n",
        "from sklearn.metrics import mean_squared_error, mean_absolute_error\n"
      ]
    },
    {
      "cell_type": "code",
      "execution_count": 2,
      "metadata": {
        "id": "RS0uxkgDygos"
      },
      "outputs": [],
      "source": [
        "#Read Dataset\n",
        "amd = pd.read_csv('AMD.csv')\n",
        "aapl = pd.read_csv('AAPL.csv')"
      ]
    },
    {
      "cell_type": "code",
      "execution_count": 3,
      "metadata": {
        "colab": {
          "base_uri": "https://localhost:8080/",
          "height": 206
        },
        "id": "Sc8KQ6ugEW-8",
        "outputId": "af40a900-2363-4172-8f0d-7cd68d23e049"
      },
      "outputs": [
        {
          "data": {
            "text/html": [
              "\n",
              "  <div id=\"df-80fd60d4-e377-420c-8185-aabcee41fafb\">\n",
              "    <div class=\"colab-df-container\">\n",
              "      <div>\n",
              "<style scoped>\n",
              "    .dataframe tbody tr th:only-of-type {\n",
              "        vertical-align: middle;\n",
              "    }\n",
              "\n",
              "    .dataframe tbody tr th {\n",
              "        vertical-align: top;\n",
              "    }\n",
              "\n",
              "    .dataframe thead th {\n",
              "        text-align: right;\n",
              "    }\n",
              "</style>\n",
              "<table border=\"1\" class=\"dataframe\">\n",
              "  <thead>\n",
              "    <tr style=\"text-align: right;\">\n",
              "      <th></th>\n",
              "      <th>Date</th>\n",
              "      <th>Open</th>\n",
              "      <th>High</th>\n",
              "      <th>Low</th>\n",
              "      <th>Close</th>\n",
              "      <th>Adj Close</th>\n",
              "      <th>Volume</th>\n",
              "    </tr>\n",
              "  </thead>\n",
              "  <tbody>\n",
              "    <tr>\n",
              "      <th>0</th>\n",
              "      <td>1980-03-17</td>\n",
              "      <td>0.0</td>\n",
              "      <td>3.302083</td>\n",
              "      <td>3.125000</td>\n",
              "      <td>3.145833</td>\n",
              "      <td>3.145833</td>\n",
              "      <td>219600</td>\n",
              "    </tr>\n",
              "    <tr>\n",
              "      <th>1</th>\n",
              "      <td>1980-03-18</td>\n",
              "      <td>0.0</td>\n",
              "      <td>3.125000</td>\n",
              "      <td>2.937500</td>\n",
              "      <td>3.031250</td>\n",
              "      <td>3.031250</td>\n",
              "      <td>727200</td>\n",
              "    </tr>\n",
              "    <tr>\n",
              "      <th>2</th>\n",
              "      <td>1980-03-19</td>\n",
              "      <td>0.0</td>\n",
              "      <td>3.083333</td>\n",
              "      <td>3.020833</td>\n",
              "      <td>3.041667</td>\n",
              "      <td>3.041667</td>\n",
              "      <td>295200</td>\n",
              "    </tr>\n",
              "    <tr>\n",
              "      <th>3</th>\n",
              "      <td>1980-03-20</td>\n",
              "      <td>0.0</td>\n",
              "      <td>3.062500</td>\n",
              "      <td>3.010417</td>\n",
              "      <td>3.010417</td>\n",
              "      <td>3.010417</td>\n",
              "      <td>159600</td>\n",
              "    </tr>\n",
              "    <tr>\n",
              "      <th>4</th>\n",
              "      <td>1980-03-21</td>\n",
              "      <td>0.0</td>\n",
              "      <td>3.020833</td>\n",
              "      <td>2.906250</td>\n",
              "      <td>2.916667</td>\n",
              "      <td>2.916667</td>\n",
              "      <td>130800</td>\n",
              "    </tr>\n",
              "  </tbody>\n",
              "</table>\n",
              "</div>\n",
              "      <button class=\"colab-df-convert\" onclick=\"convertToInteractive('df-80fd60d4-e377-420c-8185-aabcee41fafb')\"\n",
              "              title=\"Convert this dataframe to an interactive table.\"\n",
              "              style=\"display:none;\">\n",
              "        \n",
              "  <svg xmlns=\"http://www.w3.org/2000/svg\" height=\"24px\"viewBox=\"0 0 24 24\"\n",
              "       width=\"24px\">\n",
              "    <path d=\"M0 0h24v24H0V0z\" fill=\"none\"/>\n",
              "    <path d=\"M18.56 5.44l.94 2.06.94-2.06 2.06-.94-2.06-.94-.94-2.06-.94 2.06-2.06.94zm-11 1L8.5 8.5l.94-2.06 2.06-.94-2.06-.94L8.5 2.5l-.94 2.06-2.06.94zm10 10l.94 2.06.94-2.06 2.06-.94-2.06-.94-.94-2.06-.94 2.06-2.06.94z\"/><path d=\"M17.41 7.96l-1.37-1.37c-.4-.4-.92-.59-1.43-.59-.52 0-1.04.2-1.43.59L10.3 9.45l-7.72 7.72c-.78.78-.78 2.05 0 2.83L4 21.41c.39.39.9.59 1.41.59.51 0 1.02-.2 1.41-.59l7.78-7.78 2.81-2.81c.8-.78.8-2.07 0-2.86zM5.41 20L4 18.59l7.72-7.72 1.47 1.35L5.41 20z\"/>\n",
              "  </svg>\n",
              "      </button>\n",
              "      \n",
              "  <style>\n",
              "    .colab-df-container {\n",
              "      display:flex;\n",
              "      flex-wrap:wrap;\n",
              "      gap: 12px;\n",
              "    }\n",
              "\n",
              "    .colab-df-convert {\n",
              "      background-color: #E8F0FE;\n",
              "      border: none;\n",
              "      border-radius: 50%;\n",
              "      cursor: pointer;\n",
              "      display: none;\n",
              "      fill: #1967D2;\n",
              "      height: 32px;\n",
              "      padding: 0 0 0 0;\n",
              "      width: 32px;\n",
              "    }\n",
              "\n",
              "    .colab-df-convert:hover {\n",
              "      background-color: #E2EBFA;\n",
              "      box-shadow: 0px 1px 2px rgba(60, 64, 67, 0.3), 0px 1px 3px 1px rgba(60, 64, 67, 0.15);\n",
              "      fill: #174EA6;\n",
              "    }\n",
              "\n",
              "    [theme=dark] .colab-df-convert {\n",
              "      background-color: #3B4455;\n",
              "      fill: #D2E3FC;\n",
              "    }\n",
              "\n",
              "    [theme=dark] .colab-df-convert:hover {\n",
              "      background-color: #434B5C;\n",
              "      box-shadow: 0px 1px 3px 1px rgba(0, 0, 0, 0.15);\n",
              "      filter: drop-shadow(0px 1px 2px rgba(0, 0, 0, 0.3));\n",
              "      fill: #FFFFFF;\n",
              "    }\n",
              "  </style>\n",
              "\n",
              "      <script>\n",
              "        const buttonEl =\n",
              "          document.querySelector('#df-80fd60d4-e377-420c-8185-aabcee41fafb button.colab-df-convert');\n",
              "        buttonEl.style.display =\n",
              "          google.colab.kernel.accessAllowed ? 'block' : 'none';\n",
              "\n",
              "        async function convertToInteractive(key) {\n",
              "          const element = document.querySelector('#df-80fd60d4-e377-420c-8185-aabcee41fafb');\n",
              "          const dataTable =\n",
              "            await google.colab.kernel.invokeFunction('convertToInteractive',\n",
              "                                                     [key], {});\n",
              "          if (!dataTable) return;\n",
              "\n",
              "          const docLinkHtml = 'Like what you see? Visit the ' +\n",
              "            '<a target=\"_blank\" href=https://colab.research.google.com/notebooks/data_table.ipynb>data table notebook</a>'\n",
              "            + ' to learn more about interactive tables.';\n",
              "          element.innerHTML = '';\n",
              "          dataTable['output_type'] = 'display_data';\n",
              "          await google.colab.output.renderOutput(dataTable, element);\n",
              "          const docLink = document.createElement('div');\n",
              "          docLink.innerHTML = docLinkHtml;\n",
              "          element.appendChild(docLink);\n",
              "        }\n",
              "      </script>\n",
              "    </div>\n",
              "  </div>\n",
              "  "
            ],
            "text/plain": [
              "         Date  Open      High       Low     Close  Adj Close  Volume\n",
              "0  1980-03-17   0.0  3.302083  3.125000  3.145833   3.145833  219600\n",
              "1  1980-03-18   0.0  3.125000  2.937500  3.031250   3.031250  727200\n",
              "2  1980-03-19   0.0  3.083333  3.020833  3.041667   3.041667  295200\n",
              "3  1980-03-20   0.0  3.062500  3.010417  3.010417   3.010417  159600\n",
              "4  1980-03-21   0.0  3.020833  2.906250  2.916667   2.916667  130800"
            ]
          },
          "execution_count": 3,
          "metadata": {},
          "output_type": "execute_result"
        }
      ],
      "source": [
        "amd.head()"
      ]
    },
    {
      "cell_type": "code",
      "execution_count": 4,
      "metadata": {
        "colab": {
          "base_uri": "https://localhost:8080/",
          "height": 206
        },
        "id": "8-t2MHGySHrl",
        "outputId": "d53b387e-72f6-4a84-9276-f6bf8baf6aeb"
      },
      "outputs": [
        {
          "data": {
            "text/html": [
              "\n",
              "  <div id=\"df-14bc66e4-3c3d-4c6a-bd43-fc984ae4aeb4\">\n",
              "    <div class=\"colab-df-container\">\n",
              "      <div>\n",
              "<style scoped>\n",
              "    .dataframe tbody tr th:only-of-type {\n",
              "        vertical-align: middle;\n",
              "    }\n",
              "\n",
              "    .dataframe tbody tr th {\n",
              "        vertical-align: top;\n",
              "    }\n",
              "\n",
              "    .dataframe thead th {\n",
              "        text-align: right;\n",
              "    }\n",
              "</style>\n",
              "<table border=\"1\" class=\"dataframe\">\n",
              "  <thead>\n",
              "    <tr style=\"text-align: right;\">\n",
              "      <th></th>\n",
              "      <th>Date</th>\n",
              "      <th>Open</th>\n",
              "      <th>High</th>\n",
              "      <th>Low</th>\n",
              "      <th>Close</th>\n",
              "      <th>Adj Close</th>\n",
              "      <th>Volume</th>\n",
              "    </tr>\n",
              "  </thead>\n",
              "  <tbody>\n",
              "    <tr>\n",
              "      <th>0</th>\n",
              "      <td>1980-12-12</td>\n",
              "      <td>0.513393</td>\n",
              "      <td>0.515625</td>\n",
              "      <td>0.513393</td>\n",
              "      <td>0.513393</td>\n",
              "      <td>0.406782</td>\n",
              "      <td>117258400</td>\n",
              "    </tr>\n",
              "    <tr>\n",
              "      <th>1</th>\n",
              "      <td>1980-12-15</td>\n",
              "      <td>0.488839</td>\n",
              "      <td>0.488839</td>\n",
              "      <td>0.486607</td>\n",
              "      <td>0.486607</td>\n",
              "      <td>0.385558</td>\n",
              "      <td>43971200</td>\n",
              "    </tr>\n",
              "    <tr>\n",
              "      <th>2</th>\n",
              "      <td>1980-12-16</td>\n",
              "      <td>0.453125</td>\n",
              "      <td>0.453125</td>\n",
              "      <td>0.450893</td>\n",
              "      <td>0.450893</td>\n",
              "      <td>0.357260</td>\n",
              "      <td>26432000</td>\n",
              "    </tr>\n",
              "    <tr>\n",
              "      <th>3</th>\n",
              "      <td>1980-12-17</td>\n",
              "      <td>0.462054</td>\n",
              "      <td>0.464286</td>\n",
              "      <td>0.462054</td>\n",
              "      <td>0.462054</td>\n",
              "      <td>0.366103</td>\n",
              "      <td>21610400</td>\n",
              "    </tr>\n",
              "    <tr>\n",
              "      <th>4</th>\n",
              "      <td>1980-12-18</td>\n",
              "      <td>0.475446</td>\n",
              "      <td>0.477679</td>\n",
              "      <td>0.475446</td>\n",
              "      <td>0.475446</td>\n",
              "      <td>0.376715</td>\n",
              "      <td>18362400</td>\n",
              "    </tr>\n",
              "  </tbody>\n",
              "</table>\n",
              "</div>\n",
              "      <button class=\"colab-df-convert\" onclick=\"convertToInteractive('df-14bc66e4-3c3d-4c6a-bd43-fc984ae4aeb4')\"\n",
              "              title=\"Convert this dataframe to an interactive table.\"\n",
              "              style=\"display:none;\">\n",
              "        \n",
              "  <svg xmlns=\"http://www.w3.org/2000/svg\" height=\"24px\"viewBox=\"0 0 24 24\"\n",
              "       width=\"24px\">\n",
              "    <path d=\"M0 0h24v24H0V0z\" fill=\"none\"/>\n",
              "    <path d=\"M18.56 5.44l.94 2.06.94-2.06 2.06-.94-2.06-.94-.94-2.06-.94 2.06-2.06.94zm-11 1L8.5 8.5l.94-2.06 2.06-.94-2.06-.94L8.5 2.5l-.94 2.06-2.06.94zm10 10l.94 2.06.94-2.06 2.06-.94-2.06-.94-.94-2.06-.94 2.06-2.06.94z\"/><path d=\"M17.41 7.96l-1.37-1.37c-.4-.4-.92-.59-1.43-.59-.52 0-1.04.2-1.43.59L10.3 9.45l-7.72 7.72c-.78.78-.78 2.05 0 2.83L4 21.41c.39.39.9.59 1.41.59.51 0 1.02-.2 1.41-.59l7.78-7.78 2.81-2.81c.8-.78.8-2.07 0-2.86zM5.41 20L4 18.59l7.72-7.72 1.47 1.35L5.41 20z\"/>\n",
              "  </svg>\n",
              "      </button>\n",
              "      \n",
              "  <style>\n",
              "    .colab-df-container {\n",
              "      display:flex;\n",
              "      flex-wrap:wrap;\n",
              "      gap: 12px;\n",
              "    }\n",
              "\n",
              "    .colab-df-convert {\n",
              "      background-color: #E8F0FE;\n",
              "      border: none;\n",
              "      border-radius: 50%;\n",
              "      cursor: pointer;\n",
              "      display: none;\n",
              "      fill: #1967D2;\n",
              "      height: 32px;\n",
              "      padding: 0 0 0 0;\n",
              "      width: 32px;\n",
              "    }\n",
              "\n",
              "    .colab-df-convert:hover {\n",
              "      background-color: #E2EBFA;\n",
              "      box-shadow: 0px 1px 2px rgba(60, 64, 67, 0.3), 0px 1px 3px 1px rgba(60, 64, 67, 0.15);\n",
              "      fill: #174EA6;\n",
              "    }\n",
              "\n",
              "    [theme=dark] .colab-df-convert {\n",
              "      background-color: #3B4455;\n",
              "      fill: #D2E3FC;\n",
              "    }\n",
              "\n",
              "    [theme=dark] .colab-df-convert:hover {\n",
              "      background-color: #434B5C;\n",
              "      box-shadow: 0px 1px 3px 1px rgba(0, 0, 0, 0.15);\n",
              "      filter: drop-shadow(0px 1px 2px rgba(0, 0, 0, 0.3));\n",
              "      fill: #FFFFFF;\n",
              "    }\n",
              "  </style>\n",
              "\n",
              "      <script>\n",
              "        const buttonEl =\n",
              "          document.querySelector('#df-14bc66e4-3c3d-4c6a-bd43-fc984ae4aeb4 button.colab-df-convert');\n",
              "        buttonEl.style.display =\n",
              "          google.colab.kernel.accessAllowed ? 'block' : 'none';\n",
              "\n",
              "        async function convertToInteractive(key) {\n",
              "          const element = document.querySelector('#df-14bc66e4-3c3d-4c6a-bd43-fc984ae4aeb4');\n",
              "          const dataTable =\n",
              "            await google.colab.kernel.invokeFunction('convertToInteractive',\n",
              "                                                     [key], {});\n",
              "          if (!dataTable) return;\n",
              "\n",
              "          const docLinkHtml = 'Like what you see? Visit the ' +\n",
              "            '<a target=\"_blank\" href=https://colab.research.google.com/notebooks/data_table.ipynb>data table notebook</a>'\n",
              "            + ' to learn more about interactive tables.';\n",
              "          element.innerHTML = '';\n",
              "          dataTable['output_type'] = 'display_data';\n",
              "          await google.colab.output.renderOutput(dataTable, element);\n",
              "          const docLink = document.createElement('div');\n",
              "          docLink.innerHTML = docLinkHtml;\n",
              "          element.appendChild(docLink);\n",
              "        }\n",
              "      </script>\n",
              "    </div>\n",
              "  </div>\n",
              "  "
            ],
            "text/plain": [
              "         Date      Open      High       Low     Close  Adj Close     Volume\n",
              "0  1980-12-12  0.513393  0.515625  0.513393  0.513393   0.406782  117258400\n",
              "1  1980-12-15  0.488839  0.488839  0.486607  0.486607   0.385558   43971200\n",
              "2  1980-12-16  0.453125  0.453125  0.450893  0.450893   0.357260   26432000\n",
              "3  1980-12-17  0.462054  0.464286  0.462054  0.462054   0.366103   21610400\n",
              "4  1980-12-18  0.475446  0.477679  0.475446  0.475446   0.376715   18362400"
            ]
          },
          "execution_count": 4,
          "metadata": {},
          "output_type": "execute_result"
        }
      ],
      "source": [
        "aapl.head()"
      ]
    },
    {
      "cell_type": "markdown",
      "metadata": {
        "id": "YKVBKAaxQZqd"
      },
      "source": [
        "Berikut tampilan data set untuk setiap tahunya, karena di soal dikatakan hanya menggunakan date dan close saja maka saya lampirkan sebagai berikut"
      ]
    },
    {
      "cell_type": "code",
      "execution_count": 5,
      "metadata": {
        "id": "yqJ2TyHJyiAR"
      },
      "outputs": [],
      "source": [
        "#Hanya menggunakan date dan close kolom\n",
        "amd = amd[['Date', 'Close']]\n",
        "aapl = aapl[['Date', 'Close']]"
      ]
    },
    {
      "cell_type": "markdown",
      "metadata": {
        "id": "-vFEJbSm1y1A"
      },
      "source": [
        "1. a) EDA Dataset\n",
        "\n",
        "---\n",
        "\n",
        "\n",
        "notes *yang akan digunakan kolom Date dan Close saja"
      ]
    },
    {
      "cell_type": "code",
      "execution_count": 6,
      "metadata": {
        "colab": {
          "base_uri": "https://localhost:8080/"
        },
        "id": "KzAF3W4aTbtW",
        "outputId": "bce46f32-f7dc-4350-98ee-540cd5e33b37"
      },
      "outputs": [
        {
          "name": "stdout",
          "output_type": "stream",
          "text": [
            "         Date     Close\n",
            "0  1980-03-17  3.145833\n",
            "1  1980-03-18  3.031250\n",
            "2  1980-03-19  3.041667\n",
            "3  1980-03-20  3.010417\n",
            "4  1980-03-21  2.916667\n",
            "         Date     Close\n",
            "0  1980-12-12  0.513393\n",
            "1  1980-12-15  0.486607\n",
            "2  1980-12-16  0.450893\n",
            "3  1980-12-17  0.462054\n",
            "4  1980-12-18  0.475446\n"
          ]
        }
      ],
      "source": [
        "print(amd.head())\n",
        "print(aapl.head())"
      ]
    },
    {
      "cell_type": "code",
      "execution_count": 7,
      "metadata": {
        "colab": {
          "base_uri": "https://localhost:8080/"
        },
        "id": "ZV1ZfHGf1tkE",
        "outputId": "225c8911-5c42-4968-9e19-e5f3bd1e01aa"
      },
      "outputs": [
        {
          "data": {
            "text/plain": [
              "(10098, 2)"
            ]
          },
          "execution_count": 7,
          "metadata": {},
          "output_type": "execute_result"
        }
      ],
      "source": [
        "# EDA Dataset AMD\n",
        "amd.shape"
      ]
    },
    {
      "cell_type": "code",
      "execution_count": 8,
      "metadata": {
        "colab": {
          "base_uri": "https://localhost:8080/"
        },
        "id": "_ZVY9VFEToqS",
        "outputId": "b032361e-e081-481b-b257-9de85bfb6329"
      },
      "outputs": [
        {
          "data": {
            "text/plain": [
              "(9909, 2)"
            ]
          },
          "execution_count": 8,
          "metadata": {},
          "output_type": "execute_result"
        }
      ],
      "source": [
        "aapl.shape"
      ]
    },
    {
      "cell_type": "code",
      "execution_count": 9,
      "metadata": {
        "colab": {
          "base_uri": "https://localhost:8080/",
          "height": 300
        },
        "id": "smOHW6ag17db",
        "outputId": "5f8debd2-1455-4ab7-8f56-0c228747391d"
      },
      "outputs": [
        {
          "data": {
            "text/html": [
              "\n",
              "  <div id=\"df-f2307060-9513-48e2-b15c-6fd397bc94ee\">\n",
              "    <div class=\"colab-df-container\">\n",
              "      <div>\n",
              "<style scoped>\n",
              "    .dataframe tbody tr th:only-of-type {\n",
              "        vertical-align: middle;\n",
              "    }\n",
              "\n",
              "    .dataframe tbody tr th {\n",
              "        vertical-align: top;\n",
              "    }\n",
              "\n",
              "    .dataframe thead th {\n",
              "        text-align: right;\n",
              "    }\n",
              "</style>\n",
              "<table border=\"1\" class=\"dataframe\">\n",
              "  <thead>\n",
              "    <tr style=\"text-align: right;\">\n",
              "      <th></th>\n",
              "      <th>Close</th>\n",
              "    </tr>\n",
              "  </thead>\n",
              "  <tbody>\n",
              "    <tr>\n",
              "      <th>count</th>\n",
              "      <td>10098.000000</td>\n",
              "    </tr>\n",
              "    <tr>\n",
              "      <th>mean</th>\n",
              "      <td>11.210802</td>\n",
              "    </tr>\n",
              "    <tr>\n",
              "      <th>std</th>\n",
              "      <td>8.283645</td>\n",
              "    </tr>\n",
              "    <tr>\n",
              "      <th>min</th>\n",
              "      <td>1.620000</td>\n",
              "    </tr>\n",
              "    <tr>\n",
              "      <th>25%</th>\n",
              "      <td>4.937500</td>\n",
              "    </tr>\n",
              "    <tr>\n",
              "      <th>50%</th>\n",
              "      <td>9.062500</td>\n",
              "    </tr>\n",
              "    <tr>\n",
              "      <th>75%</th>\n",
              "      <td>14.707500</td>\n",
              "    </tr>\n",
              "    <tr>\n",
              "      <th>max</th>\n",
              "      <td>58.900002</td>\n",
              "    </tr>\n",
              "  </tbody>\n",
              "</table>\n",
              "</div>\n",
              "      <button class=\"colab-df-convert\" onclick=\"convertToInteractive('df-f2307060-9513-48e2-b15c-6fd397bc94ee')\"\n",
              "              title=\"Convert this dataframe to an interactive table.\"\n",
              "              style=\"display:none;\">\n",
              "        \n",
              "  <svg xmlns=\"http://www.w3.org/2000/svg\" height=\"24px\"viewBox=\"0 0 24 24\"\n",
              "       width=\"24px\">\n",
              "    <path d=\"M0 0h24v24H0V0z\" fill=\"none\"/>\n",
              "    <path d=\"M18.56 5.44l.94 2.06.94-2.06 2.06-.94-2.06-.94-.94-2.06-.94 2.06-2.06.94zm-11 1L8.5 8.5l.94-2.06 2.06-.94-2.06-.94L8.5 2.5l-.94 2.06-2.06.94zm10 10l.94 2.06.94-2.06 2.06-.94-2.06-.94-.94-2.06-.94 2.06-2.06.94z\"/><path d=\"M17.41 7.96l-1.37-1.37c-.4-.4-.92-.59-1.43-.59-.52 0-1.04.2-1.43.59L10.3 9.45l-7.72 7.72c-.78.78-.78 2.05 0 2.83L4 21.41c.39.39.9.59 1.41.59.51 0 1.02-.2 1.41-.59l7.78-7.78 2.81-2.81c.8-.78.8-2.07 0-2.86zM5.41 20L4 18.59l7.72-7.72 1.47 1.35L5.41 20z\"/>\n",
              "  </svg>\n",
              "      </button>\n",
              "      \n",
              "  <style>\n",
              "    .colab-df-container {\n",
              "      display:flex;\n",
              "      flex-wrap:wrap;\n",
              "      gap: 12px;\n",
              "    }\n",
              "\n",
              "    .colab-df-convert {\n",
              "      background-color: #E8F0FE;\n",
              "      border: none;\n",
              "      border-radius: 50%;\n",
              "      cursor: pointer;\n",
              "      display: none;\n",
              "      fill: #1967D2;\n",
              "      height: 32px;\n",
              "      padding: 0 0 0 0;\n",
              "      width: 32px;\n",
              "    }\n",
              "\n",
              "    .colab-df-convert:hover {\n",
              "      background-color: #E2EBFA;\n",
              "      box-shadow: 0px 1px 2px rgba(60, 64, 67, 0.3), 0px 1px 3px 1px rgba(60, 64, 67, 0.15);\n",
              "      fill: #174EA6;\n",
              "    }\n",
              "\n",
              "    [theme=dark] .colab-df-convert {\n",
              "      background-color: #3B4455;\n",
              "      fill: #D2E3FC;\n",
              "    }\n",
              "\n",
              "    [theme=dark] .colab-df-convert:hover {\n",
              "      background-color: #434B5C;\n",
              "      box-shadow: 0px 1px 3px 1px rgba(0, 0, 0, 0.15);\n",
              "      filter: drop-shadow(0px 1px 2px rgba(0, 0, 0, 0.3));\n",
              "      fill: #FFFFFF;\n",
              "    }\n",
              "  </style>\n",
              "\n",
              "      <script>\n",
              "        const buttonEl =\n",
              "          document.querySelector('#df-f2307060-9513-48e2-b15c-6fd397bc94ee button.colab-df-convert');\n",
              "        buttonEl.style.display =\n",
              "          google.colab.kernel.accessAllowed ? 'block' : 'none';\n",
              "\n",
              "        async function convertToInteractive(key) {\n",
              "          const element = document.querySelector('#df-f2307060-9513-48e2-b15c-6fd397bc94ee');\n",
              "          const dataTable =\n",
              "            await google.colab.kernel.invokeFunction('convertToInteractive',\n",
              "                                                     [key], {});\n",
              "          if (!dataTable) return;\n",
              "\n",
              "          const docLinkHtml = 'Like what you see? Visit the ' +\n",
              "            '<a target=\"_blank\" href=https://colab.research.google.com/notebooks/data_table.ipynb>data table notebook</a>'\n",
              "            + ' to learn more about interactive tables.';\n",
              "          element.innerHTML = '';\n",
              "          dataTable['output_type'] = 'display_data';\n",
              "          await google.colab.output.renderOutput(dataTable, element);\n",
              "          const docLink = document.createElement('div');\n",
              "          docLink.innerHTML = docLinkHtml;\n",
              "          element.appendChild(docLink);\n",
              "        }\n",
              "      </script>\n",
              "    </div>\n",
              "  </div>\n",
              "  "
            ],
            "text/plain": [
              "              Close\n",
              "count  10098.000000\n",
              "mean      11.210802\n",
              "std        8.283645\n",
              "min        1.620000\n",
              "25%        4.937500\n",
              "50%        9.062500\n",
              "75%       14.707500\n",
              "max       58.900002"
            ]
          },
          "execution_count": 9,
          "metadata": {},
          "output_type": "execute_result"
        }
      ],
      "source": [
        "# EDA Dataset AMD\n",
        "amd.describe()"
      ]
    },
    {
      "cell_type": "code",
      "execution_count": 10,
      "metadata": {
        "colab": {
          "base_uri": "https://localhost:8080/",
          "height": 300
        },
        "id": "23YCSqdLT2mh",
        "outputId": "036509ea-41be-43e5-8a25-a3ba574eab31"
      },
      "outputs": [
        {
          "data": {
            "text/html": [
              "\n",
              "  <div id=\"df-b96c27e5-c1a6-4f73-b3a6-78ccfc3dc45c\">\n",
              "    <div class=\"colab-df-container\">\n",
              "      <div>\n",
              "<style scoped>\n",
              "    .dataframe tbody tr th:only-of-type {\n",
              "        vertical-align: middle;\n",
              "    }\n",
              "\n",
              "    .dataframe tbody tr th {\n",
              "        vertical-align: top;\n",
              "    }\n",
              "\n",
              "    .dataframe thead th {\n",
              "        text-align: right;\n",
              "    }\n",
              "</style>\n",
              "<table border=\"1\" class=\"dataframe\">\n",
              "  <thead>\n",
              "    <tr style=\"text-align: right;\">\n",
              "      <th></th>\n",
              "      <th>Close</th>\n",
              "    </tr>\n",
              "  </thead>\n",
              "  <tbody>\n",
              "    <tr>\n",
              "      <th>count</th>\n",
              "      <td>9909.000000</td>\n",
              "    </tr>\n",
              "    <tr>\n",
              "      <th>mean</th>\n",
              "      <td>32.618030</td>\n",
              "    </tr>\n",
              "    <tr>\n",
              "      <th>std</th>\n",
              "      <td>58.471899</td>\n",
              "    </tr>\n",
              "    <tr>\n",
              "      <th>min</th>\n",
              "      <td>0.196429</td>\n",
              "    </tr>\n",
              "    <tr>\n",
              "      <th>25%</th>\n",
              "      <td>1.071429</td>\n",
              "    </tr>\n",
              "    <tr>\n",
              "      <th>50%</th>\n",
              "      <td>1.732143</td>\n",
              "    </tr>\n",
              "    <tr>\n",
              "      <th>75%</th>\n",
              "      <td>35.761429</td>\n",
              "    </tr>\n",
              "    <tr>\n",
              "      <th>max</th>\n",
              "      <td>327.200012</td>\n",
              "    </tr>\n",
              "  </tbody>\n",
              "</table>\n",
              "</div>\n",
              "      <button class=\"colab-df-convert\" onclick=\"convertToInteractive('df-b96c27e5-c1a6-4f73-b3a6-78ccfc3dc45c')\"\n",
              "              title=\"Convert this dataframe to an interactive table.\"\n",
              "              style=\"display:none;\">\n",
              "        \n",
              "  <svg xmlns=\"http://www.w3.org/2000/svg\" height=\"24px\"viewBox=\"0 0 24 24\"\n",
              "       width=\"24px\">\n",
              "    <path d=\"M0 0h24v24H0V0z\" fill=\"none\"/>\n",
              "    <path d=\"M18.56 5.44l.94 2.06.94-2.06 2.06-.94-2.06-.94-.94-2.06-.94 2.06-2.06.94zm-11 1L8.5 8.5l.94-2.06 2.06-.94-2.06-.94L8.5 2.5l-.94 2.06-2.06.94zm10 10l.94 2.06.94-2.06 2.06-.94-2.06-.94-.94-2.06-.94 2.06-2.06.94z\"/><path d=\"M17.41 7.96l-1.37-1.37c-.4-.4-.92-.59-1.43-.59-.52 0-1.04.2-1.43.59L10.3 9.45l-7.72 7.72c-.78.78-.78 2.05 0 2.83L4 21.41c.39.39.9.59 1.41.59.51 0 1.02-.2 1.41-.59l7.78-7.78 2.81-2.81c.8-.78.8-2.07 0-2.86zM5.41 20L4 18.59l7.72-7.72 1.47 1.35L5.41 20z\"/>\n",
              "  </svg>\n",
              "      </button>\n",
              "      \n",
              "  <style>\n",
              "    .colab-df-container {\n",
              "      display:flex;\n",
              "      flex-wrap:wrap;\n",
              "      gap: 12px;\n",
              "    }\n",
              "\n",
              "    .colab-df-convert {\n",
              "      background-color: #E8F0FE;\n",
              "      border: none;\n",
              "      border-radius: 50%;\n",
              "      cursor: pointer;\n",
              "      display: none;\n",
              "      fill: #1967D2;\n",
              "      height: 32px;\n",
              "      padding: 0 0 0 0;\n",
              "      width: 32px;\n",
              "    }\n",
              "\n",
              "    .colab-df-convert:hover {\n",
              "      background-color: #E2EBFA;\n",
              "      box-shadow: 0px 1px 2px rgba(60, 64, 67, 0.3), 0px 1px 3px 1px rgba(60, 64, 67, 0.15);\n",
              "      fill: #174EA6;\n",
              "    }\n",
              "\n",
              "    [theme=dark] .colab-df-convert {\n",
              "      background-color: #3B4455;\n",
              "      fill: #D2E3FC;\n",
              "    }\n",
              "\n",
              "    [theme=dark] .colab-df-convert:hover {\n",
              "      background-color: #434B5C;\n",
              "      box-shadow: 0px 1px 3px 1px rgba(0, 0, 0, 0.15);\n",
              "      filter: drop-shadow(0px 1px 2px rgba(0, 0, 0, 0.3));\n",
              "      fill: #FFFFFF;\n",
              "    }\n",
              "  </style>\n",
              "\n",
              "      <script>\n",
              "        const buttonEl =\n",
              "          document.querySelector('#df-b96c27e5-c1a6-4f73-b3a6-78ccfc3dc45c button.colab-df-convert');\n",
              "        buttonEl.style.display =\n",
              "          google.colab.kernel.accessAllowed ? 'block' : 'none';\n",
              "\n",
              "        async function convertToInteractive(key) {\n",
              "          const element = document.querySelector('#df-b96c27e5-c1a6-4f73-b3a6-78ccfc3dc45c');\n",
              "          const dataTable =\n",
              "            await google.colab.kernel.invokeFunction('convertToInteractive',\n",
              "                                                     [key], {});\n",
              "          if (!dataTable) return;\n",
              "\n",
              "          const docLinkHtml = 'Like what you see? Visit the ' +\n",
              "            '<a target=\"_blank\" href=https://colab.research.google.com/notebooks/data_table.ipynb>data table notebook</a>'\n",
              "            + ' to learn more about interactive tables.';\n",
              "          element.innerHTML = '';\n",
              "          dataTable['output_type'] = 'display_data';\n",
              "          await google.colab.output.renderOutput(dataTable, element);\n",
              "          const docLink = document.createElement('div');\n",
              "          docLink.innerHTML = docLinkHtml;\n",
              "          element.appendChild(docLink);\n",
              "        }\n",
              "      </script>\n",
              "    </div>\n",
              "  </div>\n",
              "  "
            ],
            "text/plain": [
              "             Close\n",
              "count  9909.000000\n",
              "mean     32.618030\n",
              "std      58.471899\n",
              "min       0.196429\n",
              "25%       1.071429\n",
              "50%       1.732143\n",
              "75%      35.761429\n",
              "max     327.200012"
            ]
          },
          "execution_count": 10,
          "metadata": {},
          "output_type": "execute_result"
        }
      ],
      "source": [
        "aapl.describe()"
      ]
    },
    {
      "cell_type": "markdown",
      "metadata": {
        "id": "Id8dSJh8Qzfo"
      },
      "source": [
        "Di atas merupakan output summary statics dari data set, tidak ditemukanya anomali dari hasil tersebut"
      ]
    },
    {
      "cell_type": "code",
      "execution_count": 11,
      "metadata": {
        "colab": {
          "base_uri": "https://localhost:8080/"
        },
        "id": "_2GKNeao1-SR",
        "outputId": "f1958739-978f-4316-e375-22d0873ffc13"
      },
      "outputs": [
        {
          "name": "stdout",
          "output_type": "stream",
          "text": [
            "<class 'pandas.core.frame.DataFrame'>\n",
            "RangeIndex: 10098 entries, 0 to 10097\n",
            "Data columns (total 2 columns):\n",
            " #   Column  Non-Null Count  Dtype  \n",
            "---  ------  --------------  -----  \n",
            " 0   Date    10098 non-null  object \n",
            " 1   Close   10098 non-null  float64\n",
            "dtypes: float64(1), object(1)\n",
            "memory usage: 157.9+ KB\n"
          ]
        }
      ],
      "source": [
        "amd.info()"
      ]
    },
    {
      "cell_type": "code",
      "execution_count": 12,
      "metadata": {
        "colab": {
          "base_uri": "https://localhost:8080/"
        },
        "id": "WT_6JUPnT6aI",
        "outputId": "5cbabea6-8deb-4ff3-f78e-224a291892a3"
      },
      "outputs": [
        {
          "name": "stdout",
          "output_type": "stream",
          "text": [
            "<class 'pandas.core.frame.DataFrame'>\n",
            "RangeIndex: 9909 entries, 0 to 9908\n",
            "Data columns (total 2 columns):\n",
            " #   Column  Non-Null Count  Dtype  \n",
            "---  ------  --------------  -----  \n",
            " 0   Date    9909 non-null   object \n",
            " 1   Close   9909 non-null   float64\n",
            "dtypes: float64(1), object(1)\n",
            "memory usage: 155.0+ KB\n"
          ]
        }
      ],
      "source": [
        "aapl.info()"
      ]
    },
    {
      "cell_type": "code",
      "execution_count": 13,
      "metadata": {
        "colab": {
          "base_uri": "https://localhost:8080/",
          "height": 112
        },
        "id": "BQU9M0Uh1-vo",
        "outputId": "5352f6b7-6373-49d3-926e-0963ef68fb63"
      },
      "outputs": [
        {
          "data": {
            "text/html": [
              "\n",
              "  <div id=\"df-24916f54-41dc-46a7-b8d0-85d6905078ad\">\n",
              "    <div class=\"colab-df-container\">\n",
              "      <div>\n",
              "<style scoped>\n",
              "    .dataframe tbody tr th:only-of-type {\n",
              "        vertical-align: middle;\n",
              "    }\n",
              "\n",
              "    .dataframe tbody tr th {\n",
              "        vertical-align: top;\n",
              "    }\n",
              "\n",
              "    .dataframe thead th {\n",
              "        text-align: right;\n",
              "    }\n",
              "</style>\n",
              "<table border=\"1\" class=\"dataframe\">\n",
              "  <thead>\n",
              "    <tr style=\"text-align: right;\">\n",
              "      <th></th>\n",
              "      <th>Missing Values</th>\n",
              "      <th>Percentage</th>\n",
              "    </tr>\n",
              "  </thead>\n",
              "  <tbody>\n",
              "    <tr>\n",
              "      <th>Date</th>\n",
              "      <td>0</td>\n",
              "      <td>0.0</td>\n",
              "    </tr>\n",
              "    <tr>\n",
              "      <th>Close</th>\n",
              "      <td>0</td>\n",
              "      <td>0.0</td>\n",
              "    </tr>\n",
              "  </tbody>\n",
              "</table>\n",
              "</div>\n",
              "      <button class=\"colab-df-convert\" onclick=\"convertToInteractive('df-24916f54-41dc-46a7-b8d0-85d6905078ad')\"\n",
              "              title=\"Convert this dataframe to an interactive table.\"\n",
              "              style=\"display:none;\">\n",
              "        \n",
              "  <svg xmlns=\"http://www.w3.org/2000/svg\" height=\"24px\"viewBox=\"0 0 24 24\"\n",
              "       width=\"24px\">\n",
              "    <path d=\"M0 0h24v24H0V0z\" fill=\"none\"/>\n",
              "    <path d=\"M18.56 5.44l.94 2.06.94-2.06 2.06-.94-2.06-.94-.94-2.06-.94 2.06-2.06.94zm-11 1L8.5 8.5l.94-2.06 2.06-.94-2.06-.94L8.5 2.5l-.94 2.06-2.06.94zm10 10l.94 2.06.94-2.06 2.06-.94-2.06-.94-.94-2.06-.94 2.06-2.06.94z\"/><path d=\"M17.41 7.96l-1.37-1.37c-.4-.4-.92-.59-1.43-.59-.52 0-1.04.2-1.43.59L10.3 9.45l-7.72 7.72c-.78.78-.78 2.05 0 2.83L4 21.41c.39.39.9.59 1.41.59.51 0 1.02-.2 1.41-.59l7.78-7.78 2.81-2.81c.8-.78.8-2.07 0-2.86zM5.41 20L4 18.59l7.72-7.72 1.47 1.35L5.41 20z\"/>\n",
              "  </svg>\n",
              "      </button>\n",
              "      \n",
              "  <style>\n",
              "    .colab-df-container {\n",
              "      display:flex;\n",
              "      flex-wrap:wrap;\n",
              "      gap: 12px;\n",
              "    }\n",
              "\n",
              "    .colab-df-convert {\n",
              "      background-color: #E8F0FE;\n",
              "      border: none;\n",
              "      border-radius: 50%;\n",
              "      cursor: pointer;\n",
              "      display: none;\n",
              "      fill: #1967D2;\n",
              "      height: 32px;\n",
              "      padding: 0 0 0 0;\n",
              "      width: 32px;\n",
              "    }\n",
              "\n",
              "    .colab-df-convert:hover {\n",
              "      background-color: #E2EBFA;\n",
              "      box-shadow: 0px 1px 2px rgba(60, 64, 67, 0.3), 0px 1px 3px 1px rgba(60, 64, 67, 0.15);\n",
              "      fill: #174EA6;\n",
              "    }\n",
              "\n",
              "    [theme=dark] .colab-df-convert {\n",
              "      background-color: #3B4455;\n",
              "      fill: #D2E3FC;\n",
              "    }\n",
              "\n",
              "    [theme=dark] .colab-df-convert:hover {\n",
              "      background-color: #434B5C;\n",
              "      box-shadow: 0px 1px 3px 1px rgba(0, 0, 0, 0.15);\n",
              "      filter: drop-shadow(0px 1px 2px rgba(0, 0, 0, 0.3));\n",
              "      fill: #FFFFFF;\n",
              "    }\n",
              "  </style>\n",
              "\n",
              "      <script>\n",
              "        const buttonEl =\n",
              "          document.querySelector('#df-24916f54-41dc-46a7-b8d0-85d6905078ad button.colab-df-convert');\n",
              "        buttonEl.style.display =\n",
              "          google.colab.kernel.accessAllowed ? 'block' : 'none';\n",
              "\n",
              "        async function convertToInteractive(key) {\n",
              "          const element = document.querySelector('#df-24916f54-41dc-46a7-b8d0-85d6905078ad');\n",
              "          const dataTable =\n",
              "            await google.colab.kernel.invokeFunction('convertToInteractive',\n",
              "                                                     [key], {});\n",
              "          if (!dataTable) return;\n",
              "\n",
              "          const docLinkHtml = 'Like what you see? Visit the ' +\n",
              "            '<a target=\"_blank\" href=https://colab.research.google.com/notebooks/data_table.ipynb>data table notebook</a>'\n",
              "            + ' to learn more about interactive tables.';\n",
              "          element.innerHTML = '';\n",
              "          dataTable['output_type'] = 'display_data';\n",
              "          await google.colab.output.renderOutput(dataTable, element);\n",
              "          const docLink = document.createElement('div');\n",
              "          docLink.innerHTML = docLinkHtml;\n",
              "          element.appendChild(docLink);\n",
              "        }\n",
              "      </script>\n",
              "    </div>\n",
              "  </div>\n",
              "  "
            ],
            "text/plain": [
              "       Missing Values  Percentage\n",
              "Date                0         0.0\n",
              "Close               0         0.0"
            ]
          },
          "execution_count": 13,
          "metadata": {},
          "output_type": "execute_result"
        }
      ],
      "source": [
        "#Checking Missing Values AMD\n",
        "missing_val = amd.isnull().sum()\n",
        "missing_val_percentile = (100 * missing_val)/len(amd)\n",
        "missing_val_table = pd.concat([missing_val,missing_val_percentile], axis = 1)\n",
        "missing_val_table = missing_val_table.rename(columns ={ 0: 'Missing Values', 1: 'Percentage'})\n",
        "missing_val_table = missing_val_table.sort_values(by = 'Missing Values', ascending = False)\n",
        "missing_val_table"
      ]
    },
    {
      "cell_type": "code",
      "execution_count": 14,
      "metadata": {
        "colab": {
          "base_uri": "https://localhost:8080/",
          "height": 112
        },
        "id": "8wpqdLQAUHww",
        "outputId": "c480afd8-2879-4b72-b6c0-fcec2647ddad"
      },
      "outputs": [
        {
          "data": {
            "text/html": [
              "\n",
              "  <div id=\"df-d1aea833-dd2f-40de-8dee-516c713acf12\">\n",
              "    <div class=\"colab-df-container\">\n",
              "      <div>\n",
              "<style scoped>\n",
              "    .dataframe tbody tr th:only-of-type {\n",
              "        vertical-align: middle;\n",
              "    }\n",
              "\n",
              "    .dataframe tbody tr th {\n",
              "        vertical-align: top;\n",
              "    }\n",
              "\n",
              "    .dataframe thead th {\n",
              "        text-align: right;\n",
              "    }\n",
              "</style>\n",
              "<table border=\"1\" class=\"dataframe\">\n",
              "  <thead>\n",
              "    <tr style=\"text-align: right;\">\n",
              "      <th></th>\n",
              "      <th>Missing Values</th>\n",
              "      <th>Percentage</th>\n",
              "    </tr>\n",
              "  </thead>\n",
              "  <tbody>\n",
              "    <tr>\n",
              "      <th>Date</th>\n",
              "      <td>0</td>\n",
              "      <td>0.0</td>\n",
              "    </tr>\n",
              "    <tr>\n",
              "      <th>Close</th>\n",
              "      <td>0</td>\n",
              "      <td>0.0</td>\n",
              "    </tr>\n",
              "  </tbody>\n",
              "</table>\n",
              "</div>\n",
              "      <button class=\"colab-df-convert\" onclick=\"convertToInteractive('df-d1aea833-dd2f-40de-8dee-516c713acf12')\"\n",
              "              title=\"Convert this dataframe to an interactive table.\"\n",
              "              style=\"display:none;\">\n",
              "        \n",
              "  <svg xmlns=\"http://www.w3.org/2000/svg\" height=\"24px\"viewBox=\"0 0 24 24\"\n",
              "       width=\"24px\">\n",
              "    <path d=\"M0 0h24v24H0V0z\" fill=\"none\"/>\n",
              "    <path d=\"M18.56 5.44l.94 2.06.94-2.06 2.06-.94-2.06-.94-.94-2.06-.94 2.06-2.06.94zm-11 1L8.5 8.5l.94-2.06 2.06-.94-2.06-.94L8.5 2.5l-.94 2.06-2.06.94zm10 10l.94 2.06.94-2.06 2.06-.94-2.06-.94-.94-2.06-.94 2.06-2.06.94z\"/><path d=\"M17.41 7.96l-1.37-1.37c-.4-.4-.92-.59-1.43-.59-.52 0-1.04.2-1.43.59L10.3 9.45l-7.72 7.72c-.78.78-.78 2.05 0 2.83L4 21.41c.39.39.9.59 1.41.59.51 0 1.02-.2 1.41-.59l7.78-7.78 2.81-2.81c.8-.78.8-2.07 0-2.86zM5.41 20L4 18.59l7.72-7.72 1.47 1.35L5.41 20z\"/>\n",
              "  </svg>\n",
              "      </button>\n",
              "      \n",
              "  <style>\n",
              "    .colab-df-container {\n",
              "      display:flex;\n",
              "      flex-wrap:wrap;\n",
              "      gap: 12px;\n",
              "    }\n",
              "\n",
              "    .colab-df-convert {\n",
              "      background-color: #E8F0FE;\n",
              "      border: none;\n",
              "      border-radius: 50%;\n",
              "      cursor: pointer;\n",
              "      display: none;\n",
              "      fill: #1967D2;\n",
              "      height: 32px;\n",
              "      padding: 0 0 0 0;\n",
              "      width: 32px;\n",
              "    }\n",
              "\n",
              "    .colab-df-convert:hover {\n",
              "      background-color: #E2EBFA;\n",
              "      box-shadow: 0px 1px 2px rgba(60, 64, 67, 0.3), 0px 1px 3px 1px rgba(60, 64, 67, 0.15);\n",
              "      fill: #174EA6;\n",
              "    }\n",
              "\n",
              "    [theme=dark] .colab-df-convert {\n",
              "      background-color: #3B4455;\n",
              "      fill: #D2E3FC;\n",
              "    }\n",
              "\n",
              "    [theme=dark] .colab-df-convert:hover {\n",
              "      background-color: #434B5C;\n",
              "      box-shadow: 0px 1px 3px 1px rgba(0, 0, 0, 0.15);\n",
              "      filter: drop-shadow(0px 1px 2px rgba(0, 0, 0, 0.3));\n",
              "      fill: #FFFFFF;\n",
              "    }\n",
              "  </style>\n",
              "\n",
              "      <script>\n",
              "        const buttonEl =\n",
              "          document.querySelector('#df-d1aea833-dd2f-40de-8dee-516c713acf12 button.colab-df-convert');\n",
              "        buttonEl.style.display =\n",
              "          google.colab.kernel.accessAllowed ? 'block' : 'none';\n",
              "\n",
              "        async function convertToInteractive(key) {\n",
              "          const element = document.querySelector('#df-d1aea833-dd2f-40de-8dee-516c713acf12');\n",
              "          const dataTable =\n",
              "            await google.colab.kernel.invokeFunction('convertToInteractive',\n",
              "                                                     [key], {});\n",
              "          if (!dataTable) return;\n",
              "\n",
              "          const docLinkHtml = 'Like what you see? Visit the ' +\n",
              "            '<a target=\"_blank\" href=https://colab.research.google.com/notebooks/data_table.ipynb>data table notebook</a>'\n",
              "            + ' to learn more about interactive tables.';\n",
              "          element.innerHTML = '';\n",
              "          dataTable['output_type'] = 'display_data';\n",
              "          await google.colab.output.renderOutput(dataTable, element);\n",
              "          const docLink = document.createElement('div');\n",
              "          docLink.innerHTML = docLinkHtml;\n",
              "          element.appendChild(docLink);\n",
              "        }\n",
              "      </script>\n",
              "    </div>\n",
              "  </div>\n",
              "  "
            ],
            "text/plain": [
              "       Missing Values  Percentage\n",
              "Date                0         0.0\n",
              "Close               0         0.0"
            ]
          },
          "execution_count": 14,
          "metadata": {},
          "output_type": "execute_result"
        }
      ],
      "source": [
        "#Checking Missing Values AAPL\n",
        "missing_val = aapl.isnull().sum()\n",
        "missing_val_percentile = (100 * missing_val)/len(aapl)\n",
        "missing_val_table = pd.concat([missing_val,missing_val_percentile], axis = 1)\n",
        "missing_val_table = missing_val_table.rename(columns ={ 0: 'Missing Values', 1: 'Percentage'})\n",
        "missing_val_table = missing_val_table.sort_values(by = 'Missing Values', ascending = False)\n",
        "missing_val_table"
      ]
    },
    {
      "cell_type": "markdown",
      "metadata": {
        "id": "mBhC5ZOO2DEy"
      },
      "source": [
        "There is NO missing values in AMD and AAPL dataset, then we gonna visualize close and date\n"
      ]
    },
    {
      "cell_type": "code",
      "execution_count": 15,
      "metadata": {
        "id": "ev8euoX62Ag5"
      },
      "outputs": [],
      "source": [
        "#Untuk plot mengubah date menjadi index\n",
        "amd['Date'] = pd.to_datetime(amd['Date'])\n",
        "amd.set_index('Date', inplace=True)"
      ]
    },
    {
      "cell_type": "code",
      "execution_count": 16,
      "metadata": {
        "id": "11f72zRlUPp0"
      },
      "outputs": [],
      "source": [
        "#Untuk plot mengubah date menjadi index\n",
        "aapl['Date'] = pd.to_datetime(aapl['Date'])\n",
        "aapl.set_index('Date', inplace=True)"
      ]
    },
    {
      "cell_type": "code",
      "execution_count": 17,
      "metadata": {
        "colab": {
          "base_uri": "https://localhost:8080/",
          "height": 414
        },
        "id": "mrWRHBNhUpp3",
        "outputId": "6a9c7615-5bc4-42de-934f-cdd495c861c8"
      },
      "outputs": [
        {
          "data": {
            "image/png": "[encoded data removed]",
            "text/plain": [
              "<Figure size 1600x600 with 1 Axes>"
            ]
          },
          "metadata": {},
          "output_type": "display_data"
        }
      ],
      "source": [
        "#Plot close berdasarkan tahun\n",
        "plt.figure(figsize=(16,6))\n",
        "plt.title('AMD Close Price History')\n",
        "plt.plot(amd['Close'])\n",
        "plt.xlabel('Date', fontsize=18)\n",
        "plt.ylabel('Close Price', fontsize=18)\n",
        "plt.show()"
      ]
    },
    {
      "cell_type": "code",
      "execution_count": 18,
      "metadata": {
        "colab": {
          "base_uri": "https://localhost:8080/",
          "height": 411
        },
        "id": "Y1VEBP0lUW36",
        "outputId": "d2841921-d16f-4d94-d7a6-435c313ff6a8"
      },
      "outputs": [
        {
          "data": {
            "image/png": "[encoded data removed]",
            "text/plain": [
              "<Figure size 1600x600 with 1 Axes>"
            ]
          },
          "metadata": {},
          "output_type": "display_data"
        }
      ],
      "source": [
        "#Plot close berdasarkan tahun\n",
        "plt.figure(figsize=(16,6))\n",
        "plt.title('AAPL Close Price History')\n",
        "plt.plot(aapl['Close'])\n",
        "plt.xlabel('Date', fontsize=18)\n",
        "plt.ylabel('Close Price', fontsize=18)\n",
        "plt.show()"
      ]
    },
    {
      "cell_type": "markdown",
      "metadata": {
        "id": "cDHoSDO82Lx3"
      },
      "source": [
        "1. a) Prapose Dataset"
      ]
    },
    {
      "cell_type": "code",
      "execution_count": 19,
      "metadata": {
        "colab": {
          "base_uri": "https://localhost:8080/"
        },
        "id": "bOIEzmsO2F9B",
        "outputId": "6512459c-5ef1-4797-e4b0-e2d49888c7cd"
      },
      "outputs": [
        {
          "data": {
            "text/plain": [
              "array([[0.02663815],\n",
              "       [0.02463774],\n",
              "       [0.0248196 ],\n",
              "       ...,\n",
              "       [0.80726256],\n",
              "       [0.76571226],\n",
              "       [0.73393853]])"
            ]
          },
          "execution_count": 19,
          "metadata": {},
          "output_type": "execute_result"
        }
      ],
      "source": [
        "# Extract the 'Close' column from the 'amd' DataFrame\n",
        "data = amd[['Close']]\n",
        "\n",
        "# # # Convert the index to datetime\n",
        "data.index = pd.to_datetime(data.index)\n",
        "\n",
        "# Extract the values of the 'Close' column\n",
        "dataset = data['Close'].values\n",
        "\n",
        "# Scale the dataset\n",
        "scaler = MinMaxScaler(feature_range=(0, 1))\n",
        "scaled_data = scaler.fit_transform(dataset.reshape(-1, 1))\n",
        "\n",
        "scaled_data"
      ]
    },
    {
      "cell_type": "markdown",
      "metadata": {
        "id": "sjVp6dYSMXqy"
      },
      "source": [
        "Pisahkan data time series\n",
        "tersebut menjadi dua bagian input dan output dengan window size = 5 [dari hari senin s.d\n",
        "jumat] dan horizon = 1 [hari senin saja]."
      ]
    },
    {
      "cell_type": "code",
      "execution_count": 20,
      "metadata": {
        "colab": {
          "base_uri": "https://localhost:8080/"
        },
        "id": "6GX4MXfT2Tyh",
        "outputId": "4619aa7b-d5d5-4f8e-af49-1482159e902a"
      },
      "outputs": [
        {
          "name": "stdout",
          "output_type": "stream",
          "text": [
            "Train set shapes:\n",
            "X_train shape: (8074, 5)\n",
            "y_train shape: (8074,)\n",
            "\n",
            "Validation set shapes:\n",
            "X_val shape: (1009, 5)\n",
            "y_val shape: (1009,)\n",
            "\n",
            "Test set shapes:\n",
            "X_test shape: (1010, 5)\n",
            "y_test shape: (1010,)\n"
          ]
        }
      ],
      "source": [
        "# Define window size and horizon\n",
        "window_size = 5\n",
        "horizon = 1\n",
        "\n",
        "# Separate the dataset into input (X) and output (y) with window size and horizon\n",
        "X = []\n",
        "y = []\n",
        "for i in range(window_size, len(scaled_data) - horizon + 1):\n",
        "    X.append(scaled_data[i - window_size:i, 0])\n",
        "    y.append(scaled_data[i + horizon - 1, 0])\n",
        "\n",
        "# Convert X and y to numpy arrays\n",
        "X = np.array(X)\n",
        "y = np.array(y)\n",
        "\n",
        "# Split the dataset into train, validation, and test sets (80:10:10)\n",
        "X_train, X_val_test, y_train, y_val_test = train_test_split(X, y, test_size=0.2, shuffle=False)\n",
        "X_val, X_test, y_val, y_test = train_test_split(X_val_test, y_val_test, test_size=0.5, shuffle=False)\n",
        "\n",
        "print(\"Train set shapes:\")\n",
        "print(\"X_train shape:\", X_train.shape)\n",
        "print(\"y_train shape:\", y_train.shape)\n",
        "print()\n",
        "print(\"Validation set shapes:\")\n",
        "print(\"X_val shape:\", X_val.shape)\n",
        "print(\"y_val shape:\", y_val.shape)\n",
        "print()\n",
        "print(\"Test set shapes:\")\n",
        "print(\"X_test shape:\", X_test.shape)\n",
        "print(\"y_test shape:\", y_test.shape)"
      ]
    },
    {
      "cell_type": "markdown",
      "metadata": {
        "id": "DjxN1qa6OD1c"
      },
      "source": [
        "**B) LSTM Modeling AMD**"
      ]
    },
    {
      "cell_type": "markdown",
      "metadata": {
        "id": "Lh7k_IJ4KB91"
      },
      "source": [
        "Modeling 1"
      ]
    },
    {
      "cell_type": "code",
      "execution_count": 55,
      "metadata": {
        "colab": {
          "base_uri": "https://localhost:8080/"
        },
        "id": "KYdLGPgI2ds_",
        "outputId": "b25cb182-8ea5-4673-a858-fae3af61df4d"
      },
      "outputs": [
        {
          "name": "stdout",
          "output_type": "stream",
          "text": [
            "Epoch 1/10\n",
            "248/248 [==============================] - 4s 6ms/step - loss: 1.3515e-04 - val_loss: 3.1932e-04\n",
            "Epoch 2/10\n",
            "248/248 [==============================] - 1s 5ms/step - loss: 2.1706e-06 - val_loss: 2.8265e-04\n",
            "Epoch 3/10\n",
            "248/248 [==============================] - 1s 5ms/step - loss: 2.3506e-06 - val_loss: 3.1378e-04\n",
            "Epoch 4/10\n",
            "248/248 [==============================] - 1s 5ms/step - loss: 2.2039e-06 - val_loss: 2.2424e-04\n",
            "Epoch 5/10\n",
            "248/248 [==============================] - 2s 8ms/step - loss: 2.6760e-06 - val_loss: 2.8991e-04\n",
            "Epoch 6/10\n",
            "248/248 [==============================] - 1s 5ms/step - loss: 2.2704e-06 - val_loss: 2.0690e-04\n",
            "Epoch 7/10\n",
            "248/248 [==============================] - 1s 5ms/step - loss: 2.4788e-06 - val_loss: 2.7952e-04\n",
            "Epoch 8/10\n",
            "248/248 [==============================] - 1s 5ms/step - loss: 2.3791e-06 - val_loss: 2.4267e-04\n",
            "Epoch 9/10\n",
            "248/248 [==============================] - 1s 5ms/step - loss: 2.5835e-06 - val_loss: 2.8890e-04\n",
            "Epoch 10/10\n",
            "248/248 [==============================] - 1s 5ms/step - loss: 2.1944e-06 - val_loss: 2.5806e-04\n",
            "31/31 [==============================] - 0s 2ms/step - loss: 0.0055\n",
            "31/31 [==============================] - 0s 2ms/step\n"
          ]
        }
      ],
      "source": [
        "# Define the baseline LSTM model\n",
        "model = Sequential()\n",
        "model.add(LSTM(units=50, activation='relu', input_shape=(window_size, 1)))\n",
        "model.add(Dense(units=1))\n",
        "\n",
        "# Compile the model\n",
        "model.compile(optimizer='adam', loss='mean_squared_error')\n",
        "\n",
        "# Train the model\n",
        "model.fit(X_train, y_train, epochs=10, batch_size=32, validation_data=(X_val, y_val))\n",
        "\n",
        "# Evaluate the model on the test set\n",
        "loss = model.evaluate(X_test, y_test)\n",
        "\n",
        "# Make predictions using the trained model\n",
        "predictions = model.predict(X_test)"
      ]
    },
    {
      "cell_type": "code",
      "execution_count": 56,
      "metadata": {
        "colab": {
          "base_uri": "https://localhost:8080/"
        },
        "id": "PLsfP_hufwIV",
        "outputId": "289803c9-c127-490e-d434-e058e67a48a1"
      },
      "outputs": [
        {
          "name": "stdout",
          "output_type": "stream",
          "text": [
            "Model: \"sequential_4\"\n",
            "_________________________________________________________________\n",
            " Layer (type)                Output Shape              Param #   \n",
            "=================================================================\n",
            " lstm_5 (LSTM)               (None, 50)                10400     \n",
            "                                                                 \n",
            " dense_7 (Dense)             (None, 1)                 51        \n",
            "                                                                 \n",
            "=================================================================\n",
            "Total params: 10,451\n",
            "Trainable params: 10,451\n",
            "Non-trainable params: 0\n",
            "_________________________________________________________________\n"
          ]
        }
      ],
      "source": [
        "model.summary()"
      ]
    },
    {
      "cell_type": "code",
      "execution_count": 22,
      "metadata": {
        "colab": {
          "base_uri": "https://localhost:8080/"
        },
        "id": "A0ZFkQLP3KI5",
        "outputId": "3748fe61-923c-4e7c-98ff-c7bd26044cac"
      },
      "outputs": [
        {
          "name": "stdout",
          "output_type": "stream",
          "text": [
            "32/32 [==============================] - 0s 3ms/step\n"
          ]
        }
      ],
      "source": [
        "# make a prediction\n",
        "model_pred = model.predict(X_test)\n",
        "\n",
        "# Reshape X_test and y_test for concatenation\n",
        "X_test_reshaped = X_test.reshape((X_test.shape[0], X_test.shape[1]))\n",
        "y_test_reshaped = y_test.reshape((len(y_test), 1))\n",
        "\n",
        "# Invert scaling for forecast\n",
        "inv_y_pred= np.concatenate((model_pred, X_test_reshaped), axis=1)\n",
        "inv_y_pred= scaler.inverse_transform(inv_y_pred)\n",
        "inv_y_pred= inv_y_pred[:, 0]\n",
        "\n",
        "# Invert scaling for actual\n",
        "inv_y = np.concatenate((y_test_reshaped, X_test_reshaped), axis=1)\n",
        "inv_y = scaler.inverse_transform(inv_y)\n",
        "inv_y = inv_y[:, 0]"
      ]
    },
    {
      "cell_type": "code",
      "execution_count": 23,
      "metadata": {
        "colab": {
          "base_uri": "https://localhost:8080/"
        },
        "id": "rknCh9uE5fAV",
        "outputId": "a3bbaed5-44ed-492a-84f6-434a65d71211"
      },
      "outputs": [
        {
          "name": "stdout",
          "output_type": "stream",
          "text": [
            "Test RMSE: 1.016\n",
            "Test MAE: 0.643\n",
            "Test MAPE: 3.446\n"
          ]
        }
      ],
      "source": [
        "# Calculate RMSE\n",
        "rmse = np.sqrt(mean_squared_error(inv_y, inv_y_pred))\n",
        "\n",
        "# Calculate MAE\n",
        "mae = mean_absolute_error(inv_y, inv_y_pred)\n",
        "\n",
        "# Calculate MAPE\n",
        "mape = np.mean(np.abs((inv_y - inv_y_pred) / inv_y)) * 100\n",
        "\n",
        "# Print the evaluation metrics\n",
        "print('Test RMSE: %.3f' % rmse)\n",
        "print('Test MAE: %.3f' % mae)\n",
        "print('Test MAPE: %.3f' % mape)"
      ]
    },
    {
      "cell_type": "markdown",
      "metadata": {
        "id": "e8kZVna6Lu2s"
      },
      "source": [
        "dari hasil diatas didapat metics eval masih tergolong tinggi"
      ]
    },
    {
      "cell_type": "code",
      "execution_count": 24,
      "metadata": {
        "colab": {
          "base_uri": "https://localhost:8080/",
          "height": 424
        },
        "id": "gRTebC5q5YVV",
        "outputId": "60102fe8-6f04-463d-bca3-7382458453e9"
      },
      "outputs": [
        {
          "data": {
            "text/html": [
              "\n",
              "  <div id=\"df-d81b7e7b-145b-44cd-938f-420cd4a3e56f\">\n",
              "    <div class=\"colab-df-container\">\n",
              "      <div>\n",
              "<style scoped>\n",
              "    .dataframe tbody tr th:only-of-type {\n",
              "        vertical-align: middle;\n",
              "    }\n",
              "\n",
              "    .dataframe tbody tr th {\n",
              "        vertical-align: top;\n",
              "    }\n",
              "\n",
              "    .dataframe thead th {\n",
              "        text-align: right;\n",
              "    }\n",
              "</style>\n",
              "<table border=\"1\" class=\"dataframe\">\n",
              "  <thead>\n",
              "    <tr style=\"text-align: right;\">\n",
              "      <th></th>\n",
              "      <th>Actual Close Price</th>\n",
              "      <th>Predicted Close Price</th>\n",
              "    </tr>\n",
              "  </thead>\n",
              "  <tbody>\n",
              "    <tr>\n",
              "      <th>0</th>\n",
              "      <td>2.860000</td>\n",
              "      <td>2.816287</td>\n",
              "    </tr>\n",
              "    <tr>\n",
              "      <th>1</th>\n",
              "      <td>2.850000</td>\n",
              "      <td>2.845691</td>\n",
              "    </tr>\n",
              "    <tr>\n",
              "      <th>2</th>\n",
              "      <td>2.830000</td>\n",
              "      <td>2.863103</td>\n",
              "    </tr>\n",
              "    <tr>\n",
              "      <th>3</th>\n",
              "      <td>2.830000</td>\n",
              "      <td>2.864121</td>\n",
              "    </tr>\n",
              "    <tr>\n",
              "      <th>4</th>\n",
              "      <td>2.760000</td>\n",
              "      <td>2.858720</td>\n",
              "    </tr>\n",
              "    <tr>\n",
              "      <th>...</th>\n",
              "      <td>...</td>\n",
              "      <td>...</td>\n",
              "    </tr>\n",
              "    <tr>\n",
              "      <th>1005</th>\n",
              "      <td>47.500000</td>\n",
              "      <td>44.364117</td>\n",
              "    </tr>\n",
              "    <tr>\n",
              "      <th>1006</th>\n",
              "      <td>46.580002</td>\n",
              "      <td>45.401877</td>\n",
              "    </tr>\n",
              "    <tr>\n",
              "      <th>1007</th>\n",
              "      <td>47.860001</td>\n",
              "      <td>46.303330</td>\n",
              "    </tr>\n",
              "    <tr>\n",
              "      <th>1008</th>\n",
              "      <td>45.480000</td>\n",
              "      <td>46.736091</td>\n",
              "    </tr>\n",
              "    <tr>\n",
              "      <th>1009</th>\n",
              "      <td>43.660000</td>\n",
              "      <td>46.060563</td>\n",
              "    </tr>\n",
              "  </tbody>\n",
              "</table>\n",
              "<p>1010 rows × 2 columns</p>\n",
              "</div>\n",
              "      <button class=\"colab-df-convert\" onclick=\"convertToInteractive('df-d81b7e7b-145b-44cd-938f-420cd4a3e56f')\"\n",
              "              title=\"Convert this dataframe to an interactive table.\"\n",
              "              style=\"display:none;\">\n",
              "        \n",
              "  <svg xmlns=\"http://www.w3.org/2000/svg\" height=\"24px\"viewBox=\"0 0 24 24\"\n",
              "       width=\"24px\">\n",
              "    <path d=\"M0 0h24v24H0V0z\" fill=\"none\"/>\n",
              "    <path d=\"M18.56 5.44l.94 2.06.94-2.06 2.06-.94-2.06-.94-.94-2.06-.94 2.06-2.06.94zm-11 1L8.5 8.5l.94-2.06 2.06-.94-2.06-.94L8.5 2.5l-.94 2.06-2.06.94zm10 10l.94 2.06.94-2.06 2.06-.94-2.06-.94-.94-2.06-.94 2.06-2.06.94z\"/><path d=\"M17.41 7.96l-1.37-1.37c-.4-.4-.92-.59-1.43-.59-.52 0-1.04.2-1.43.59L10.3 9.45l-7.72 7.72c-.78.78-.78 2.05 0 2.83L4 21.41c.39.39.9.59 1.41.59.51 0 1.02-.2 1.41-.59l7.78-7.78 2.81-2.81c.8-.78.8-2.07 0-2.86zM5.41 20L4 18.59l7.72-7.72 1.47 1.35L5.41 20z\"/>\n",
              "  </svg>\n",
              "      </button>\n",
              "      \n",
              "  <style>\n",
              "    .colab-df-container {\n",
              "      display:flex;\n",
              "      flex-wrap:wrap;\n",
              "      gap: 12px;\n",
              "    }\n",
              "\n",
              "    .colab-df-convert {\n",
              "      background-color: #E8F0FE;\n",
              "      border: none;\n",
              "      border-radius: 50%;\n",
              "      cursor: pointer;\n",
              "      display: none;\n",
              "      fill: #1967D2;\n",
              "      height: 32px;\n",
              "      padding: 0 0 0 0;\n",
              "      width: 32px;\n",
              "    }\n",
              "\n",
              "    .colab-df-convert:hover {\n",
              "      background-color: #E2EBFA;\n",
              "      box-shadow: 0px 1px 2px rgba(60, 64, 67, 0.3), 0px 1px 3px 1px rgba(60, 64, 67, 0.15);\n",
              "      fill: #174EA6;\n",
              "    }\n",
              "\n",
              "    [theme=dark] .colab-df-convert {\n",
              "      background-color: #3B4455;\n",
              "      fill: #D2E3FC;\n",
              "    }\n",
              "\n",
              "    [theme=dark] .colab-df-convert:hover {\n",
              "      background-color: #434B5C;\n",
              "      box-shadow: 0px 1px 3px 1px rgba(0, 0, 0, 0.15);\n",
              "      filter: drop-shadow(0px 1px 2px rgba(0, 0, 0, 0.3));\n",
              "      fill: #FFFFFF;\n",
              "    }\n",
              "  </style>\n",
              "\n",
              "      <script>\n",
              "        const buttonEl =\n",
              "          document.querySelector('#df-d81b7e7b-145b-44cd-938f-420cd4a3e56f button.colab-df-convert');\n",
              "        buttonEl.style.display =\n",
              "          google.colab.kernel.accessAllowed ? 'block' : 'none';\n",
              "\n",
              "        async function convertToInteractive(key) {\n",
              "          const element = document.querySelector('#df-d81b7e7b-145b-44cd-938f-420cd4a3e56f');\n",
              "          const dataTable =\n",
              "            await google.colab.kernel.invokeFunction('convertToInteractive',\n",
              "                                                     [key], {});\n",
              "          if (!dataTable) return;\n",
              "\n",
              "          const docLinkHtml = 'Like what you see? Visit the ' +\n",
              "            '<a target=\"_blank\" href=https://colab.research.google.com/notebooks/data_table.ipynb>data table notebook</a>'\n",
              "            + ' to learn more about interactive tables.';\n",
              "          element.innerHTML = '';\n",
              "          dataTable['output_type'] = 'display_data';\n",
              "          await google.colab.output.renderOutput(dataTable, element);\n",
              "          const docLink = document.createElement('div');\n",
              "          docLink.innerHTML = docLinkHtml;\n",
              "          element.appendChild(docLink);\n",
              "        }\n",
              "      </script>\n",
              "    </div>\n",
              "  </div>\n",
              "  "
            ],
            "text/plain": [
              "      Actual Close Price  Predicted Close Price\n",
              "0               2.860000               2.816287\n",
              "1               2.850000               2.845691\n",
              "2               2.830000               2.863103\n",
              "3               2.830000               2.864121\n",
              "4               2.760000               2.858720\n",
              "...                  ...                    ...\n",
              "1005           47.500000              44.364117\n",
              "1006           46.580002              45.401877\n",
              "1007           47.860001              46.303330\n",
              "1008           45.480000              46.736091\n",
              "1009           43.660000              46.060563\n",
              "\n",
              "[1010 rows x 2 columns]"
            ]
          },
          "execution_count": 24,
          "metadata": {},
          "output_type": "execute_result"
        }
      ],
      "source": [
        "#Show Actual vs Predicted\n",
        "result_comp = pd.DataFrame(list(zip(inv_y, inv_y_pred)),\n",
        "               columns =['Actual Close Price', 'Predicted Close Price'])\n",
        "result_comp"
      ]
    },
    {
      "cell_type": "markdown",
      "metadata": {
        "id": "mWeKXRboKoMW"
      },
      "source": [
        "**C) Modifikasi Model**"
      ]
    },
    {
      "cell_type": "markdown",
      "metadata": {
        "id": "Xxyzw48u54Rx"
      },
      "source": [
        "Model 2"
      ]
    },
    {
      "cell_type": "markdown",
      "metadata": {
        "id": "EeSwt3AeOaJY"
      },
      "source": [
        "LSTM MODEL 2:\n",
        "Saya memodifikasi dengan cara menambahkan layer LSTM tambahan dengan jumlah unit 128 dan mengubah batch size menjadi 86. Selain itu, saya juga akan menambahkan layer Dense tambahan dengan aktivasi 'relu' dan jumlah unit 64."
      ]
    },
    {
      "cell_type": "code",
      "execution_count": 25,
      "metadata": {
        "colab": {
          "base_uri": "https://localhost:8080/"
        },
        "id": "n2fGQp4B9sor",
        "outputId": "60771c49-729d-42f7-f46b-fa56f4be180d"
      },
      "outputs": [
        {
          "name": "stdout",
          "output_type": "stream",
          "text": [
            "Epoch 1/100\n",
            "94/94 [==============================] - 9s 37ms/step - loss: 0.0038 - val_loss: 2.7121e-05\n",
            "Epoch 2/100\n",
            "94/94 [==============================] - 3s 29ms/step - loss: 1.7319e-04 - val_loss: 1.7414e-05\n",
            "Epoch 3/100\n",
            "94/94 [==============================] - 3s 28ms/step - loss: 1.7272e-04 - val_loss: 1.6174e-05\n",
            "Epoch 4/100\n",
            "94/94 [==============================] - 3s 34ms/step - loss: 1.6263e-04 - val_loss: 9.1664e-06\n",
            "Epoch 5/100\n",
            "94/94 [==============================] - 3s 36ms/step - loss: 1.5432e-04 - val_loss: 8.2465e-06\n",
            "Epoch 6/100\n",
            "94/94 [==============================] - 3s 30ms/step - loss: 1.5742e-04 - val_loss: 2.1580e-05\n",
            "Epoch 7/100\n",
            "94/94 [==============================] - 2s 25ms/step - loss: 1.4902e-04 - val_loss: 7.1044e-06\n",
            "Epoch 8/100\n",
            "94/94 [==============================] - 1s 15ms/step - loss: 1.4504e-04 - val_loss: 2.4709e-05\n",
            "Epoch 9/100\n",
            "94/94 [==============================] - 1s 16ms/step - loss: 1.4993e-04 - val_loss: 6.6448e-05\n",
            "Epoch 10/100\n",
            "94/94 [==============================] - 2s 25ms/step - loss: 1.4772e-04 - val_loss: 2.3906e-05\n",
            "Epoch 11/100\n",
            "94/94 [==============================] - 1s 16ms/step - loss: 1.2460e-04 - val_loss: 6.2655e-06\n",
            "Epoch 12/100\n",
            "94/94 [==============================] - 1s 14ms/step - loss: 1.1967e-04 - val_loss: 1.1300e-05\n",
            "Epoch 13/100\n",
            "94/94 [==============================] - 1s 14ms/step - loss: 1.2108e-04 - val_loss: 8.4091e-06\n",
            "Epoch 14/100\n",
            "94/94 [==============================] - 1s 14ms/step - loss: 1.1078e-04 - val_loss: 5.8791e-06\n",
            "Epoch 15/100\n",
            "94/94 [==============================] - 1s 14ms/step - loss: 1.1334e-04 - val_loss: 5.5420e-06\n",
            "Epoch 16/100\n",
            "94/94 [==============================] - 1s 14ms/step - loss: 1.1615e-04 - val_loss: 1.8434e-05\n",
            "Epoch 17/100\n",
            "94/94 [==============================] - 2s 26ms/step - loss: 1.0909e-04 - val_loss: 1.1277e-05\n",
            "Epoch 18/100\n",
            "94/94 [==============================] - 2s 26ms/step - loss: 1.0488e-04 - val_loss: 6.5798e-06\n",
            "Epoch 19/100\n",
            "94/94 [==============================] - 1s 15ms/step - loss: 1.0808e-04 - val_loss: 1.6260e-05\n",
            "Epoch 20/100\n",
            "94/94 [==============================] - 1s 15ms/step - loss: 1.0722e-04 - val_loss: 5.2929e-06\n",
            "Epoch 21/100\n",
            "94/94 [==============================] - 1s 15ms/step - loss: 9.9934e-05 - val_loss: 5.3414e-06\n",
            "Epoch 22/100\n",
            "94/94 [==============================] - 2s 17ms/step - loss: 9.7613e-05 - val_loss: 6.2232e-06\n",
            "Epoch 23/100\n",
            "94/94 [==============================] - 3s 28ms/step - loss: 9.9994e-05 - val_loss: 6.9985e-06\n",
            "Epoch 24/100\n",
            "94/94 [==============================] - 1s 15ms/step - loss: 9.7112e-05 - val_loss: 9.4000e-06\n",
            "Epoch 25/100\n",
            "94/94 [==============================] - 3s 33ms/step - loss: 1.0356e-04 - val_loss: 4.9738e-06\n",
            "Epoch 26/100\n",
            "94/94 [==============================] - 3s 27ms/step - loss: 9.8333e-05 - val_loss: 9.1824e-06\n",
            "Epoch 27/100\n",
            "94/94 [==============================] - 2s 25ms/step - loss: 1.0477e-04 - val_loss: 5.8190e-06\n",
            "Epoch 28/100\n",
            "94/94 [==============================] - 2s 17ms/step - loss: 9.4298e-05 - val_loss: 5.7345e-06\n",
            "Epoch 29/100\n",
            "94/94 [==============================] - 1s 14ms/step - loss: 9.2999e-05 - val_loss: 4.8917e-06\n",
            "Epoch 30/100\n",
            "94/94 [==============================] - 1s 14ms/step - loss: 9.6534e-05 - val_loss: 4.5657e-06\n",
            "Epoch 31/100\n",
            "94/94 [==============================] - 2s 17ms/step - loss: 9.7906e-05 - val_loss: 1.4975e-05\n",
            "Epoch 32/100\n",
            "94/94 [==============================] - 2s 25ms/step - loss: 9.0330e-05 - val_loss: 4.4960e-06\n",
            "Epoch 33/100\n",
            "94/94 [==============================] - 1s 14ms/step - loss: 9.2856e-05 - val_loss: 1.3722e-05\n",
            "Epoch 34/100\n",
            "94/94 [==============================] - 1s 14ms/step - loss: 8.9890e-05 - val_loss: 5.7419e-06\n",
            "Epoch 35/100\n",
            "94/94 [==============================] - 1s 14ms/step - loss: 9.1130e-05 - val_loss: 1.5127e-05\n",
            "Epoch 36/100\n",
            "94/94 [==============================] - 1s 15ms/step - loss: 9.2287e-05 - val_loss: 8.0087e-06\n",
            "Epoch 37/100\n",
            "94/94 [==============================] - 1s 14ms/step - loss: 8.9859e-05 - val_loss: 5.4557e-06\n",
            "Epoch 38/100\n",
            "94/94 [==============================] - 1s 14ms/step - loss: 9.5410e-05 - val_loss: 4.7565e-05\n",
            "Epoch 39/100\n",
            "94/94 [==============================] - 1s 14ms/step - loss: 9.6913e-05 - val_loss: 4.9656e-06\n",
            "Epoch 40/100\n",
            "94/94 [==============================] - 2s 21ms/step - loss: 9.0055e-05 - val_loss: 6.7684e-06\n",
            "Epoch 41/100\n",
            "94/94 [==============================] - 2s 20ms/step - loss: 9.0712e-05 - val_loss: 1.6068e-05\n",
            "Epoch 42/100\n",
            "94/94 [==============================] - 1s 15ms/step - loss: 8.8326e-05 - val_loss: 5.3277e-06\n",
            "Epoch 43/100\n",
            "94/94 [==============================] - 1s 14ms/step - loss: 9.6488e-05 - val_loss: 9.4663e-06\n",
            "Epoch 44/100\n",
            "94/94 [==============================] - 1s 14ms/step - loss: 8.8567e-05 - val_loss: 8.7265e-06\n",
            "Epoch 45/100\n",
            "94/94 [==============================] - 1s 14ms/step - loss: 9.2413e-05 - val_loss: 5.4196e-06\n",
            "Epoch 46/100\n",
            "94/94 [==============================] - 1s 15ms/step - loss: 9.2375e-05 - val_loss: 4.2409e-06\n",
            "Epoch 47/100\n",
            "94/94 [==============================] - 2s 20ms/step - loss: 9.3717e-05 - val_loss: 1.0343e-05\n",
            "Epoch 48/100\n",
            "94/94 [==============================] - 2s 19ms/step - loss: 9.2124e-05 - val_loss: 1.7714e-05\n",
            "Epoch 49/100\n",
            "94/94 [==============================] - 2s 23ms/step - loss: 8.8000e-05 - val_loss: 1.2496e-05\n",
            "Epoch 50/100\n",
            "94/94 [==============================] - 1s 14ms/step - loss: 8.9093e-05 - val_loss: 6.4367e-06\n",
            "Epoch 51/100\n",
            "94/94 [==============================] - 1s 14ms/step - loss: 9.2887e-05 - val_loss: 2.5910e-05\n",
            "Epoch 52/100\n",
            "94/94 [==============================] - 1s 14ms/step - loss: 9.5865e-05 - val_loss: 4.0088e-05\n",
            "Epoch 53/100\n",
            "94/94 [==============================] - 1s 14ms/step - loss: 9.0841e-05 - val_loss: 4.2505e-06\n",
            "Epoch 54/100\n",
            "94/94 [==============================] - 1s 14ms/step - loss: 8.5457e-05 - val_loss: 4.4178e-06\n",
            "Epoch 55/100\n",
            "94/94 [==============================] - 1s 15ms/step - loss: 9.2016e-05 - val_loss: 1.3703e-05\n",
            "Epoch 56/100\n",
            "94/94 [==============================] - 1s 15ms/step - loss: 8.9769e-05 - val_loss: 4.4265e-06\n",
            "Epoch 57/100\n",
            "94/94 [==============================] - 2s 24ms/step - loss: 9.3561e-05 - val_loss: 1.1773e-05\n",
            "Epoch 58/100\n",
            "94/94 [==============================] - 2s 19ms/step - loss: 8.6234e-05 - val_loss: 5.1675e-06\n",
            "Epoch 59/100\n",
            "94/94 [==============================] - 1s 14ms/step - loss: 9.2230e-05 - val_loss: 1.4011e-05\n",
            "Epoch 60/100\n",
            "94/94 [==============================] - 2s 21ms/step - loss: 9.2853e-05 - val_loss: 1.4216e-05\n",
            "Epoch 61/100\n",
            "94/94 [==============================] - 2s 26ms/step - loss: 9.4123e-05 - val_loss: 6.6775e-06\n",
            "Epoch 62/100\n",
            "94/94 [==============================] - 1s 14ms/step - loss: 8.7273e-05 - val_loss: 4.1613e-06\n",
            "Epoch 63/100\n",
            "94/94 [==============================] - 1s 14ms/step - loss: 8.7892e-05 - val_loss: 9.0649e-06\n",
            "Epoch 64/100\n",
            "94/94 [==============================] - 2s 21ms/step - loss: 8.9802e-05 - val_loss: 1.2686e-05\n",
            "Epoch 65/100\n",
            "94/94 [==============================] - 2s 21ms/step - loss: 8.6162e-05 - val_loss: 4.4227e-06\n",
            "Epoch 66/100\n",
            "94/94 [==============================] - 1s 14ms/step - loss: 8.6880e-05 - val_loss: 4.4812e-06\n",
            "Epoch 67/100\n",
            "94/94 [==============================] - 1s 14ms/step - loss: 8.7473e-05 - val_loss: 4.6182e-06\n",
            "Epoch 68/100\n",
            "94/94 [==============================] - 1s 14ms/step - loss: 8.5730e-05 - val_loss: 4.2413e-06\n",
            "Epoch 69/100\n",
            "94/94 [==============================] - 1s 14ms/step - loss: 8.9081e-05 - val_loss: 1.3356e-05\n",
            "Epoch 70/100\n",
            "94/94 [==============================] - 1s 14ms/step - loss: 8.7859e-05 - val_loss: 4.2766e-06\n",
            "Epoch 71/100\n",
            "94/94 [==============================] - 1s 14ms/step - loss: 9.4445e-05 - val_loss: 6.4996e-06\n",
            "Epoch 72/100\n",
            "94/94 [==============================] - 1s 14ms/step - loss: 8.8892e-05 - val_loss: 6.1677e-06\n",
            "Epoch 73/100\n",
            "94/94 [==============================] - 2s 26ms/step - loss: 8.7830e-05 - val_loss: 1.3083e-05\n",
            "Epoch 74/100\n",
            "94/94 [==============================] - 2s 16ms/step - loss: 9.2605e-05 - val_loss: 4.3467e-06\n",
            "Epoch 75/100\n",
            "94/94 [==============================] - 1s 15ms/step - loss: 8.9127e-05 - val_loss: 4.4218e-06\n",
            "Epoch 76/100\n",
            "94/94 [==============================] - 1s 15ms/step - loss: 8.9577e-05 - val_loss: 2.0937e-05\n",
            "Epoch 77/100\n",
            "94/94 [==============================] - 1s 16ms/step - loss: 8.9257e-05 - val_loss: 9.0545e-06\n",
            "Epoch 78/100\n",
            "94/94 [==============================] - 1s 15ms/step - loss: 8.7078e-05 - val_loss: 1.0511e-05\n",
            "Epoch 79/100\n",
            "94/94 [==============================] - 1s 14ms/step - loss: 8.3689e-05 - val_loss: 6.2768e-06\n",
            "Epoch 80/100\n",
            "94/94 [==============================] - 1s 14ms/step - loss: 8.8507e-05 - val_loss: 4.9842e-06\n",
            "Epoch 81/100\n",
            "94/94 [==============================] - 2s 23ms/step - loss: 8.7790e-05 - val_loss: 6.2138e-06\n",
            "Epoch 82/100\n",
            "94/94 [==============================] - 2s 19ms/step - loss: 8.8878e-05 - val_loss: 4.2172e-06\n",
            "Epoch 83/100\n",
            "94/94 [==============================] - 1s 15ms/step - loss: 9.8285e-05 - val_loss: 4.2842e-06\n",
            "Epoch 84/100\n",
            "94/94 [==============================] - 1s 14ms/step - loss: 8.5660e-05 - val_loss: 1.2365e-05\n",
            "Epoch 85/100\n",
            "94/94 [==============================] - 1s 15ms/step - loss: 8.8751e-05 - val_loss: 4.4830e-06\n",
            "Epoch 86/100\n",
            "94/94 [==============================] - 1s 14ms/step - loss: 8.5275e-05 - val_loss: 4.4179e-06\n",
            "Epoch 87/100\n",
            "94/94 [==============================] - 1s 15ms/step - loss: 8.4827e-05 - val_loss: 2.2174e-05\n",
            "Epoch 88/100\n",
            "94/94 [==============================] - 1s 14ms/step - loss: 9.0499e-05 - val_loss: 9.7736e-06\n",
            "Epoch 89/100\n",
            "94/94 [==============================] - 2s 18ms/step - loss: 8.9982e-05 - val_loss: 9.4080e-06\n",
            "Epoch 90/100\n",
            "94/94 [==============================] - 2s 24ms/step - loss: 8.5958e-05 - val_loss: 9.5328e-06\n",
            "Epoch 91/100\n",
            "94/94 [==============================] - 1s 15ms/step - loss: 8.9067e-05 - val_loss: 4.0861e-05\n",
            "Epoch 92/100\n",
            "94/94 [==============================] - 1s 15ms/step - loss: 9.1279e-05 - val_loss: 6.5568e-06\n",
            "Epoch 93/100\n",
            "94/94 [==============================] - 1s 15ms/step - loss: 8.4048e-05 - val_loss: 5.5581e-06\n",
            "Epoch 94/100\n",
            "94/94 [==============================] - 1s 15ms/step - loss: 8.6711e-05 - val_loss: 1.0243e-05\n",
            "Epoch 95/100\n",
            "94/94 [==============================] - 1s 15ms/step - loss: 8.7775e-05 - val_loss: 1.9978e-05\n",
            "Epoch 96/100\n",
            "94/94 [==============================] - 1s 14ms/step - loss: 8.7952e-05 - val_loss: 2.9632e-05\n",
            "Epoch 97/100\n",
            "94/94 [==============================] - 1s 15ms/step - loss: 9.1070e-05 - val_loss: 7.5080e-06\n",
            "Epoch 98/100\n",
            "94/94 [==============================] - 2s 25ms/step - loss: 8.9932e-05 - val_loss: 6.6406e-06\n",
            "Epoch 99/100\n",
            "94/94 [==============================] - 2s 18ms/step - loss: 9.0188e-05 - val_loss: 9.5283e-06\n",
            "Epoch 100/100\n",
            "94/94 [==============================] - 1s 15ms/step - loss: 9.0463e-05 - val_loss: 4.2625e-06\n"
          ]
        },
        {
          "data": {
            "text/plain": [
              "<keras.callbacks.History at 0x7fe452266290>"
            ]
          },
          "execution_count": 25,
          "metadata": {},
          "output_type": "execute_result"
        }
      ],
      "source": [
        "# Define the modified LSTM model with additional layers or different hyperparameters\n",
        "model2 = Sequential()\n",
        "model2.add(LSTM(units=128, activation='relu', input_shape=(window_size, 1)))\n",
        "model2.add(Dense(units=64, activation='relu'))\n",
        "model2.add(Dense(units=1))\n",
        "\n",
        "# Compile the modified model\n",
        "model2.compile(optimizer='adam', loss='mean_squared_error')\n",
        "\n",
        "# Train the modified model\n",
        "model2.fit(X_train, y_train, epochs=100, batch_size=86, validation_data=(X_val, y_val))"
      ]
    },
    {
      "cell_type": "code",
      "execution_count": 26,
      "metadata": {
        "colab": {
          "base_uri": "https://localhost:8080/"
        },
        "id": "dAXXKsg56tyE",
        "outputId": "c7aa829f-cca8-4d82-da29-4beaa4d80ce2"
      },
      "outputs": [
        {
          "name": "stdout",
          "output_type": "stream",
          "text": [
            "32/32 [==============================] - 0s 6ms/step\n"
          ]
        }
      ],
      "source": [
        "# make a prediction\n",
        "y_pred = model2.predict(X_test)\n",
        "\n",
        "# Reshape X_test and y_test for concatenation\n",
        "X_test_reshaped = X_test.reshape((X_test.shape[0], X_test.shape[1]))\n",
        "y_test_reshaped = y_test.reshape((len(y_test), 1))\n",
        "\n",
        "# Invert scaling for forecast\n",
        "inv_y_pred= np.concatenate((y_pred, X_test_reshaped), axis=1)\n",
        "inv_y_pred= scaler.inverse_transform(inv_y_pred)\n",
        "inv_y_pred= inv_y_pred[:, 0]\n",
        "\n",
        "# Invert scaling for actual\n",
        "inv_y = np.concatenate((y_test_reshaped, X_test_reshaped), axis=1)\n",
        "inv_y = scaler.inverse_transform(inv_y)\n",
        "inv_y = inv_y[:, 0]"
      ]
    },
    {
      "cell_type": "code",
      "execution_count": 27,
      "metadata": {
        "colab": {
          "base_uri": "https://localhost:8080/"
        },
        "id": "aHAfNh-O8MWF",
        "outputId": "65941643-c5cc-426b-bde3-31d9683a6bd6"
      },
      "outputs": [
        {
          "name": "stdout",
          "output_type": "stream",
          "text": [
            "Test RMSE: 0.897\n",
            "Test MAE: 0.525\n",
            "Test MAPE: 2.760\n"
          ]
        }
      ],
      "source": [
        "# Calculate RMSE\n",
        "rmse2 = np.sqrt(mean_squared_error(inv_y, inv_y_pred))\n",
        "\n",
        "# Calculate MAE\n",
        "mae2 = mean_absolute_error(inv_y, inv_y_pred)\n",
        "\n",
        "# Calculate MAPE\n",
        "mape2 = np.mean(np.abs((inv_y - inv_y_pred) / inv_y)) * 100\n",
        "\n",
        "# Print the evaluation metrics\n",
        "print('Test RMSE: %.3f' % rmse2)\n",
        "print('Test MAE: %.3f' % mae2)\n",
        "print('Test MAPE: %.3f' % mape2)"
      ]
    },
    {
      "cell_type": "markdown",
      "metadata": {
        "id": "tuxCry_3Oq4k"
      },
      "source": [
        "Penambahan layer LSTM tambahan dan layer Dense dengan aktivasi 'relu' pada LSTM MODEL 2 dapat membantu model untuk memahami pola yang lebih kompleks dalam data dan mengekstraksi fitur yang lebih baik. Hal ini mengarah pada performa yang lebih baik dalam memprediksi close price.\n",
        "\n",
        "Dapat dilihat arsitektur yang dimodifikasi pada LSTM MODEL 2 memberikan performa yang lebih optimal dalam memprediksi close price pada dataset."
      ]
    },
    {
      "cell_type": "code",
      "execution_count": 28,
      "metadata": {
        "colab": {
          "base_uri": "https://localhost:8080/",
          "height": 424
        },
        "id": "SmbahQGV9d_c",
        "outputId": "cb9c206a-e974-4c97-cdc9-69c964badf9f"
      },
      "outputs": [
        {
          "data": {
            "text/html": [
              "\n",
              "  <div id=\"df-efe1a9a3-2f7b-405f-8d82-f2b08f1715a1\">\n",
              "    <div class=\"colab-df-container\">\n",
              "      <div>\n",
              "<style scoped>\n",
              "    .dataframe tbody tr th:only-of-type {\n",
              "        vertical-align: middle;\n",
              "    }\n",
              "\n",
              "    .dataframe tbody tr th {\n",
              "        vertical-align: top;\n",
              "    }\n",
              "\n",
              "    .dataframe thead th {\n",
              "        text-align: right;\n",
              "    }\n",
              "</style>\n",
              "<table border=\"1\" class=\"dataframe\">\n",
              "  <thead>\n",
              "    <tr style=\"text-align: right;\">\n",
              "      <th></th>\n",
              "      <th>Actual Close Price</th>\n",
              "      <th>Predicted Close Price</th>\n",
              "    </tr>\n",
              "  </thead>\n",
              "  <tbody>\n",
              "    <tr>\n",
              "      <th>0</th>\n",
              "      <td>2.860000</td>\n",
              "      <td>2.813258</td>\n",
              "    </tr>\n",
              "    <tr>\n",
              "      <th>1</th>\n",
              "      <td>2.850000</td>\n",
              "      <td>2.815355</td>\n",
              "    </tr>\n",
              "    <tr>\n",
              "      <th>2</th>\n",
              "      <td>2.830000</td>\n",
              "      <td>2.809439</td>\n",
              "    </tr>\n",
              "    <tr>\n",
              "      <th>3</th>\n",
              "      <td>2.830000</td>\n",
              "      <td>2.792375</td>\n",
              "    </tr>\n",
              "    <tr>\n",
              "      <th>4</th>\n",
              "      <td>2.760000</td>\n",
              "      <td>2.792775</td>\n",
              "    </tr>\n",
              "    <tr>\n",
              "      <th>...</th>\n",
              "      <td>...</td>\n",
              "      <td>...</td>\n",
              "    </tr>\n",
              "    <tr>\n",
              "      <th>1005</th>\n",
              "      <td>47.500000</td>\n",
              "      <td>44.050336</td>\n",
              "    </tr>\n",
              "    <tr>\n",
              "      <th>1006</th>\n",
              "      <td>46.580002</td>\n",
              "      <td>47.656482</td>\n",
              "    </tr>\n",
              "    <tr>\n",
              "      <th>1007</th>\n",
              "      <td>47.860001</td>\n",
              "      <td>46.046770</td>\n",
              "    </tr>\n",
              "    <tr>\n",
              "      <th>1008</th>\n",
              "      <td>45.480000</td>\n",
              "      <td>47.927026</td>\n",
              "    </tr>\n",
              "    <tr>\n",
              "      <th>1009</th>\n",
              "      <td>43.660000</td>\n",
              "      <td>44.880617</td>\n",
              "    </tr>\n",
              "  </tbody>\n",
              "</table>\n",
              "<p>1010 rows × 2 columns</p>\n",
              "</div>\n",
              "      <button class=\"colab-df-convert\" onclick=\"convertToInteractive('df-efe1a9a3-2f7b-405f-8d82-f2b08f1715a1')\"\n",
              "              title=\"Convert this dataframe to an interactive table.\"\n",
              "              style=\"display:none;\">\n",
              "        \n",
              "  <svg xmlns=\"http://www.w3.org/2000/svg\" height=\"24px\"viewBox=\"0 0 24 24\"\n",
              "       width=\"24px\">\n",
              "    <path d=\"M0 0h24v24H0V0z\" fill=\"none\"/>\n",
              "    <path d=\"M18.56 5.44l.94 2.06.94-2.06 2.06-.94-2.06-.94-.94-2.06-.94 2.06-2.06.94zm-11 1L8.5 8.5l.94-2.06 2.06-.94-2.06-.94L8.5 2.5l-.94 2.06-2.06.94zm10 10l.94 2.06.94-2.06 2.06-.94-2.06-.94-.94-2.06-.94 2.06-2.06.94z\"/><path d=\"M17.41 7.96l-1.37-1.37c-.4-.4-.92-.59-1.43-.59-.52 0-1.04.2-1.43.59L10.3 9.45l-7.72 7.72c-.78.78-.78 2.05 0 2.83L4 21.41c.39.39.9.59 1.41.59.51 0 1.02-.2 1.41-.59l7.78-7.78 2.81-2.81c.8-.78.8-2.07 0-2.86zM5.41 20L4 18.59l7.72-7.72 1.47 1.35L5.41 20z\"/>\n",
              "  </svg>\n",
              "      </button>\n",
              "      \n",
              "  <style>\n",
              "    .colab-df-container {\n",
              "      display:flex;\n",
              "      flex-wrap:wrap;\n",
              "      gap: 12px;\n",
              "    }\n",
              "\n",
              "    .colab-df-convert {\n",
              "      background-color: #E8F0FE;\n",
              "      border: none;\n",
              "      border-radius: 50%;\n",
              "      cursor: pointer;\n",
              "      display: none;\n",
              "      fill: #1967D2;\n",
              "      height: 32px;\n",
              "      padding: 0 0 0 0;\n",
              "      width: 32px;\n",
              "    }\n",
              "\n",
              "    .colab-df-convert:hover {\n",
              "      background-color: #E2EBFA;\n",
              "      box-shadow: 0px 1px 2px rgba(60, 64, 67, 0.3), 0px 1px 3px 1px rgba(60, 64, 67, 0.15);\n",
              "      fill: #174EA6;\n",
              "    }\n",
              "\n",
              "    [theme=dark] .colab-df-convert {\n",
              "      background-color: #3B4455;\n",
              "      fill: #D2E3FC;\n",
              "    }\n",
              "\n",
              "    [theme=dark] .colab-df-convert:hover {\n",
              "      background-color: #434B5C;\n",
              "      box-shadow: 0px 1px 3px 1px rgba(0, 0, 0, 0.15);\n",
              "      filter: drop-shadow(0px 1px 2px rgba(0, 0, 0, 0.3));\n",
              "      fill: #FFFFFF;\n",
              "    }\n",
              "  </style>\n",
              "\n",
              "      <script>\n",
              "        const buttonEl =\n",
              "          document.querySelector('#df-efe1a9a3-2f7b-405f-8d82-f2b08f1715a1 button.colab-df-convert');\n",
              "        buttonEl.style.display =\n",
              "          google.colab.kernel.accessAllowed ? 'block' : 'none';\n",
              "\n",
              "        async function convertToInteractive(key) {\n",
              "          const element = document.querySelector('#df-efe1a9a3-2f7b-405f-8d82-f2b08f1715a1');\n",
              "          const dataTable =\n",
              "            await google.colab.kernel.invokeFunction('convertToInteractive',\n",
              "                                                     [key], {});\n",
              "          if (!dataTable) return;\n",
              "\n",
              "          const docLinkHtml = 'Like what you see? Visit the ' +\n",
              "            '<a target=\"_blank\" href=https://colab.research.google.com/notebooks/data_table.ipynb>data table notebook</a>'\n",
              "            + ' to learn more about interactive tables.';\n",
              "          element.innerHTML = '';\n",
              "          dataTable['output_type'] = 'display_data';\n",
              "          await google.colab.output.renderOutput(dataTable, element);\n",
              "          const docLink = document.createElement('div');\n",
              "          docLink.innerHTML = docLinkHtml;\n",
              "          element.appendChild(docLink);\n",
              "        }\n",
              "      </script>\n",
              "    </div>\n",
              "  </div>\n",
              "  "
            ],
            "text/plain": [
              "      Actual Close Price  Predicted Close Price\n",
              "0               2.860000               2.813258\n",
              "1               2.850000               2.815355\n",
              "2               2.830000               2.809439\n",
              "3               2.830000               2.792375\n",
              "4               2.760000               2.792775\n",
              "...                  ...                    ...\n",
              "1005           47.500000              44.050336\n",
              "1006           46.580002              47.656482\n",
              "1007           47.860001              46.046770\n",
              "1008           45.480000              47.927026\n",
              "1009           43.660000              44.880617\n",
              "\n",
              "[1010 rows x 2 columns]"
            ]
          },
          "execution_count": 28,
          "metadata": {},
          "output_type": "execute_result"
        }
      ],
      "source": [
        "#Show Actual vs Predicted\n",
        "result_comp2 = pd.DataFrame(list(zip(inv_y, inv_y_pred)),\n",
        "               columns =['Actual Close Price', 'Predicted Close Price'])\n",
        "result_comp2"
      ]
    },
    {
      "cell_type": "markdown",
      "metadata": {
        "id": "r5vlmhTkKktr"
      },
      "source": [
        "**D) Metrics Evaluation kedua LSTM**"
      ]
    },
    {
      "cell_type": "code",
      "execution_count": 29,
      "metadata": {
        "colab": {
          "base_uri": "https://localhost:8080/"
        },
        "id": "ngvNGPEwKxA8",
        "outputId": "2ca2ece5-00fe-4f60-9f7f-a5137f496562"
      },
      "outputs": [
        {
          "name": "stdout",
          "output_type": "stream",
          "text": [
            "LSTM MODEL 1\n",
            "Test RMSE: 1.016\n",
            "Test MAE: 0.643\n",
            "Test MAPE: 3.446\n",
            "\n",
            "LSTM MODEL 2\n",
            "Test RMSE: 0.897\n",
            "Test MAE: 0.525\n",
            "Test MAPE: 2.760\n"
          ]
        }
      ],
      "source": [
        "# Print the evaluation metrics\n",
        "print(\"LSTM MODEL 1\")\n",
        "print('Test RMSE: %.3f' % rmse)\n",
        "print('Test MAE: %.3f' % mae)\n",
        "print('Test MAPE: %.3f' % mape)\n",
        "print()\n",
        "# Print the evaluation metrics\n",
        "print(\"LSTM MODEL 2\")\n",
        "print('Test RMSE: %.3f' % rmse2)\n",
        "print('Test MAE: %.3f' % mae2)\n",
        "print('Test MAPE: %.3f' % mape2)"
      ]
    },
    {
      "cell_type": "markdown",
      "metadata": {
        "id": "wyd7JLsUL5Z1"
      },
      "source": [
        "Dilihat dari metrik yang disediakan, kita dapat melihat perbedaan kinerja antara kedua model ini.\n",
        "\n",
        "Model LSTM 1 memiliki nilai RMSE yang lebih tinggi, yaitu sebesar 1.016. Ini menunjukkan bahwa prediksi model ini memiliki kesalahan rata-rata yang lebih besar dalam memprediksi close price dibandingkan dengan model LSTM 2 yang memiliki RMSE sebesar 0.897. Dengan kata lain, model LSTM 2 cenderung memberikan hasil prediksi yang lebih dekat dengan close price yang sebenarnya.\n",
        "\n",
        "Selain itu, model LSTM 2 juga memiliki nilai MAE dan MAPE yang lebih rendah dibandingkan dengan model LSTM 1. MAE pada model LSTM 2 adalah 0.525, yang menunjukkan bahwa rata-rata kesalahan absolut dalam prediksi close price cenderung lebih kecil dibandingkan dengan model LSTM 1 yang memiliki MAE 0.643. Sementara itu, MAPE pada model LSTM 2 adalah 2.760, yang menunjukkan bahwa rata-rata persentase kesalahan absolut dalam prediksi close price juga lebih rendah dibandingkan dengan model LSTM 1 yang memiliki MAPE 3.446.\n",
        "\n",
        "Berdasarkan analisis ini, dapat disimpulkan bahwa model LSTM 2 lebih baik dalam memprediksi close price pada dataset pasar saham. Model ini memberikan hasil prediksi yang lebih akurat dengan nilai RMSE, MAE, dan MAPE yang lebih rendah dibandingkan dengan model LSTM 1."
      ]
    },
    {
      "cell_type": "code",
      "execution_count": 30,
      "metadata": {
        "colab": {
          "base_uri": "https://localhost:8080/"
        },
        "id": "5quFGwvtG0U-",
        "outputId": "11e6fd12-3312-452b-835e-051535c772c2"
      },
      "outputs": [
        {
          "name": "stdout",
          "output_type": "stream",
          "text": [
            "Model 1 Results:\n",
            "      Actual Close Price  Predicted Close Price\n",
            "0               2.860000               2.816287\n",
            "1               2.850000               2.845691\n",
            "2               2.830000               2.863103\n",
            "3               2.830000               2.864121\n",
            "4               2.760000               2.858720\n",
            "...                  ...                    ...\n",
            "1005           47.500000              44.364117\n",
            "1006           46.580002              45.401877\n",
            "1007           47.860001              46.303330\n",
            "1008           45.480000              46.736091\n",
            "1009           43.660000              46.060563\n",
            "\n",
            "[1010 rows x 2 columns]\n",
            "\n",
            "Model 2 Results:\n",
            "      Actual Close Price  Predicted Close Price\n",
            "0               2.860000               2.813258\n",
            "1               2.850000               2.815355\n",
            "2               2.830000               2.809439\n",
            "3               2.830000               2.792375\n",
            "4               2.760000               2.792775\n",
            "...                  ...                    ...\n",
            "1005           47.500000              44.050336\n",
            "1006           46.580002              47.656482\n",
            "1007           47.860001              46.046770\n",
            "1008           45.480000              47.927026\n",
            "1009           43.660000              44.880617\n",
            "\n",
            "[1010 rows x 2 columns]\n"
          ]
        }
      ],
      "source": [
        "# Print all  modeling results\n",
        "print(\"Model 1 Results:\")\n",
        "print(result_comp)\n",
        "\n",
        "print(\"\\nModel 2 Results:\")\n",
        "print(result_comp2)"
      ]
    },
    {
      "cell_type": "markdown",
      "metadata": {
        "id": "ISzS6XeQIhrJ"
      },
      "source": [
        "Berdasarkan analisis ini, dapat disimpulkan bahwa model LSTM 2 lebih baik dalam memprediksi close price pada dataset stock marker, maka saya menggunakan model 2 untu final model lalu melakukan ploting model"
      ]
    },
    {
      "cell_type": "code",
      "execution_count": 31,
      "metadata": {
        "colab": {
          "base_uri": "https://localhost:8080/",
          "height": 546
        },
        "id": "YWTccReSI41p",
        "outputId": "0bee0603-724c-45ea-f8a4-beb10ad4d41e"
      },
      "outputs": [
        {
          "name": "stdout",
          "output_type": "stream",
          "text": [
            "32/32 [==============================] - 0s 5ms/step\n"
          ]
        },
        {
          "data": {
            "image/png": "[encoded data removed]",
            "text/plain": [
              "<Figure size 1200x600 with 1 Axes>"
            ]
          },
          "metadata": {},
          "output_type": "display_data"
        }
      ],
      "source": [
        "#For plotting\n",
        "y_pred= model2.predict(X_test)\n",
        "y_test_index = data.index[-len(y_test):]  # Assuming 'data' is the original dataframe\n",
        "y_pred_index = data.index[-len(y_pred):]  # Assuming 'data' is the original dataframe\n",
        "#Ploting predicted vs actual\n",
        "fig, ax = plt.subplots(figsize=(12, 6))\n",
        "plt.plot(y_test_index, y_test, label='Actual AMD Close Price')\n",
        "plt.plot(y_pred_index, y_pred, label='Predicted AMD Close Price')\n",
        "plt.title('AMD Close Price Actual vs Prediction')\n",
        "plt.xlabel('Year')\n",
        "plt.ylabel('AMD Close Price')\n",
        "plt.legend()\n",
        "plt.show()"
      ]
    },
    {
      "cell_type": "markdown",
      "metadata": {
        "id": "ul5ypcdlJn28"
      },
      "source": [
        "Bisa dilihat dari hasil ploting modeling 2 menunjukan bahwa prediksi close price berhasil dilakukan dengan diagram menunjukan predicted price mempunyai pola yang sama dengan actual dan tidak adanya miss terlalu jauh\n",
        "\n",
        "---\n",
        "\n"
      ]
    },
    {
      "cell_type": "markdown",
      "metadata": {
        "id": "p-xWodI5MBy9"
      },
      "source": [
        "**Modeling AAPL**"
      ]
    },
    {
      "cell_type": "markdown",
      "metadata": {
        "id": "ehp5nrT0Vjgr"
      },
      "source": [
        "Modeling AAPL Data set menggunakan parameter Modeling 2 dari AMD sebelumnya"
      ]
    },
    {
      "cell_type": "code",
      "execution_count": 32,
      "metadata": {
        "colab": {
          "base_uri": "https://localhost:8080/"
        },
        "id": "WSlcJ2jyBxDF",
        "outputId": "df8a7a4d-5bcb-49ee-d4c8-ed8ca2ece6eb"
      },
      "outputs": [
        {
          "data": {
            "text/plain": [
              "array([[9.69299159e-04],\n",
              "       [8.87386505e-04],\n",
              "       [7.78169755e-04],\n",
              "       ...,\n",
              "       [7.78626234e-01],\n",
              "       [7.77036025e-01],\n",
              "       [7.36119074e-01]])"
            ]
          },
          "execution_count": 32,
          "metadata": {},
          "output_type": "execute_result"
        }
      ],
      "source": [
        "# Extract the 'Close' column from the 'amd' DataFrame\n",
        "data = aapl[['Close']]\n",
        "\n",
        "# # # Convert the index to datetime\n",
        "data.index = pd.to_datetime(data.index)\n",
        "\n",
        "# Extract the values of the 'Close' column\n",
        "dataset = data['Close'].values\n",
        "\n",
        "# Scale the dataset\n",
        "scaler = MinMaxScaler(feature_range=(0, 1))\n",
        "scaled_data = scaler.fit_transform(dataset.reshape(-1, 1))\n",
        "\n",
        "scaled_data"
      ]
    },
    {
      "cell_type": "code",
      "execution_count": 33,
      "metadata": {
        "colab": {
          "base_uri": "https://localhost:8080/"
        },
        "id": "jjnxA9AvBy0v",
        "outputId": "9beb585f-d9a7-40e9-fd98-c685beaf915a"
      },
      "outputs": [
        {
          "name": "stdout",
          "output_type": "stream",
          "text": [
            "Train set shapes:\n",
            "X_train shape: (7923, 5)\n",
            "y_train shape: (7923,)\n",
            "\n",
            "Validation set shapes:\n",
            "X_val shape: (990, 5)\n",
            "y_val shape: (990,)\n",
            "\n",
            "Test set shapes:\n",
            "X_test shape: (991, 5)\n",
            "y_test shape: (991,)\n"
          ]
        }
      ],
      "source": [
        "# Define window size and horizon\n",
        "window_size = 5\n",
        "horizon = 1\n",
        "\n",
        "# Separate the dataset into input (X) and output (y) with window size and horizon\n",
        "X = []\n",
        "y = []\n",
        "for i in range(window_size, len(scaled_data) - horizon + 1):\n",
        "    X.append(scaled_data[i - window_size:i, 0])\n",
        "    y.append(scaled_data[i + horizon - 1, 0])\n",
        "\n",
        "# Convert X and y to numpy arrays\n",
        "X = np.array(X)\n",
        "y = np.array(y)\n",
        "\n",
        "# Split the dataset into train, validation, and test sets (80:10:10)\n",
        "X_train, X_val_test, y_train, y_val_test = train_test_split(X, y, test_size=0.2, shuffle=False)\n",
        "X_val, X_test, y_val, y_test = train_test_split(X_val_test, y_val_test, test_size=0.5, shuffle=False)\n",
        "\n",
        "print(\"Train set shapes:\")\n",
        "print(\"X_train shape:\", X_train.shape)\n",
        "print(\"y_train shape:\", y_train.shape)\n",
        "print()\n",
        "print(\"Validation set shapes:\")\n",
        "print(\"X_val shape:\", X_val.shape)\n",
        "print(\"y_val shape:\", y_val.shape)\n",
        "print()\n",
        "print(\"Test set shapes:\")\n",
        "print(\"X_test shape:\", X_test.shape)\n",
        "print(\"y_test shape:\", y_test.shape)"
      ]
    },
    {
      "cell_type": "code",
      "execution_count": 34,
      "metadata": {
        "colab": {
          "base_uri": "https://localhost:8080/"
        },
        "id": "eOEjakIHD6TC",
        "outputId": "7ba94f74-7171-4a8b-9882-b8c9758e7b53"
      },
      "outputs": [
        {
          "name": "stdout",
          "output_type": "stream",
          "text": [
            "Epoch 1/100\n",
            "93/93 [==============================] - 3s 17ms/step - loss: 2.0148e-04 - val_loss: 1.4633e-04\n",
            "Epoch 2/100\n",
            "93/93 [==============================] - 1s 14ms/step - loss: 2.3255e-06 - val_loss: 9.2165e-05\n",
            "Epoch 3/100\n",
            "93/93 [==============================] - 1s 16ms/step - loss: 2.2147e-06 - val_loss: 6.7916e-05\n",
            "Epoch 4/100\n",
            "93/93 [==============================] - 1s 15ms/step - loss: 2.3663e-06 - val_loss: 6.7584e-05\n",
            "Epoch 5/100\n",
            "93/93 [==============================] - 1s 14ms/step - loss: 2.2314e-06 - val_loss: 7.1933e-05\n",
            "Epoch 6/100\n",
            "93/93 [==============================] - 2s 25ms/step - loss: 2.3286e-06 - val_loss: 1.7036e-04\n",
            "Epoch 7/100\n",
            "93/93 [==============================] - 2s 23ms/step - loss: 2.7495e-06 - val_loss: 7.6018e-05\n",
            "Epoch 8/100\n",
            "93/93 [==============================] - 2s 17ms/step - loss: 2.1648e-06 - val_loss: 7.3652e-05\n",
            "Epoch 9/100\n",
            "93/93 [==============================] - 1s 14ms/step - loss: 2.8018e-06 - val_loss: 1.0021e-04\n",
            "Epoch 10/100\n",
            "93/93 [==============================] - 1s 14ms/step - loss: 2.6804e-06 - val_loss: 6.2315e-05\n",
            "Epoch 11/100\n",
            "93/93 [==============================] - 1s 14ms/step - loss: 3.1212e-06 - val_loss: 9.0849e-05\n",
            "Epoch 12/100\n",
            "93/93 [==============================] - 1s 15ms/step - loss: 2.7160e-06 - val_loss: 5.8806e-05\n",
            "Epoch 13/100\n",
            "93/93 [==============================] - 1s 15ms/step - loss: 4.0319e-06 - val_loss: 5.8337e-05\n",
            "Epoch 14/100\n",
            "93/93 [==============================] - 2s 24ms/step - loss: 2.2946e-06 - val_loss: 1.2072e-04\n",
            "Epoch 15/100\n",
            "93/93 [==============================] - 2s 18ms/step - loss: 3.1436e-06 - val_loss: 5.7963e-05\n",
            "Epoch 16/100\n",
            "93/93 [==============================] - 1s 14ms/step - loss: 2.4802e-06 - val_loss: 5.1569e-05\n",
            "Epoch 17/100\n",
            "93/93 [==============================] - 1s 15ms/step - loss: 2.6358e-06 - val_loss: 7.6478e-05\n",
            "Epoch 18/100\n",
            "93/93 [==============================] - 1s 14ms/step - loss: 2.6081e-06 - val_loss: 5.1021e-05\n",
            "Epoch 19/100\n",
            "93/93 [==============================] - 1s 14ms/step - loss: 2.5076e-06 - val_loss: 5.5948e-05\n",
            "Epoch 20/100\n",
            "93/93 [==============================] - 1s 14ms/step - loss: 2.4578e-06 - val_loss: 5.5342e-05\n",
            "Epoch 21/100\n",
            "93/93 [==============================] - 1s 14ms/step - loss: 2.3350e-06 - val_loss: 6.4083e-05\n",
            "Epoch 22/100\n",
            "93/93 [==============================] - 1s 14ms/step - loss: 2.4974e-06 - val_loss: 6.8556e-05\n",
            "Epoch 23/100\n",
            "93/93 [==============================] - 2s 24ms/step - loss: 2.6516e-06 - val_loss: 5.4167e-05\n",
            "Epoch 24/100\n",
            "93/93 [==============================] - 2s 17ms/step - loss: 2.2723e-06 - val_loss: 4.9876e-05\n",
            "Epoch 25/100\n",
            "93/93 [==============================] - 1s 14ms/step - loss: 2.4116e-06 - val_loss: 6.8863e-05\n",
            "Epoch 26/100\n",
            "93/93 [==============================] - 1s 14ms/step - loss: 3.1953e-06 - val_loss: 6.1065e-05\n",
            "Epoch 27/100\n",
            "93/93 [==============================] - 1s 14ms/step - loss: 4.2506e-06 - val_loss: 5.2487e-05\n",
            "Epoch 28/100\n",
            "93/93 [==============================] - 1s 14ms/step - loss: 2.4531e-06 - val_loss: 6.0698e-05\n",
            "Epoch 29/100\n",
            "93/93 [==============================] - 1s 15ms/step - loss: 2.4416e-06 - val_loss: 4.8925e-05\n",
            "Epoch 30/100\n",
            "93/93 [==============================] - 1s 14ms/step - loss: 2.1898e-06 - val_loss: 5.7657e-05\n",
            "Epoch 31/100\n",
            "93/93 [==============================] - 2s 17ms/step - loss: 2.5497e-06 - val_loss: 4.1327e-05\n",
            "Epoch 32/100\n",
            "93/93 [==============================] - 2s 25ms/step - loss: 2.1543e-06 - val_loss: 4.8828e-05\n",
            "Epoch 33/100\n",
            "93/93 [==============================] - 1s 14ms/step - loss: 2.0365e-06 - val_loss: 4.2478e-05\n",
            "Epoch 34/100\n",
            "93/93 [==============================] - 1s 15ms/step - loss: 2.0516e-06 - val_loss: 5.7835e-05\n",
            "Epoch 35/100\n",
            "93/93 [==============================] - 1s 15ms/step - loss: 2.4264e-06 - val_loss: 6.7178e-05\n",
            "Epoch 36/100\n",
            "93/93 [==============================] - 1s 15ms/step - loss: 2.0897e-06 - val_loss: 4.3104e-05\n",
            "Epoch 37/100\n",
            "93/93 [==============================] - 1s 14ms/step - loss: 2.2239e-06 - val_loss: 4.9928e-05\n",
            "Epoch 38/100\n",
            "93/93 [==============================] - 1s 15ms/step - loss: 2.1810e-06 - val_loss: 4.4172e-05\n",
            "Epoch 39/100\n",
            "93/93 [==============================] - 1s 15ms/step - loss: 2.7962e-06 - val_loss: 1.0639e-04\n",
            "Epoch 40/100\n",
            "93/93 [==============================] - 2s 22ms/step - loss: 2.1327e-06 - val_loss: 4.7141e-05\n",
            "Epoch 41/100\n",
            "93/93 [==============================] - 2s 27ms/step - loss: 2.0544e-06 - val_loss: 5.8402e-05\n",
            "Epoch 42/100\n",
            "93/93 [==============================] - 2s 21ms/step - loss: 1.9434e-06 - val_loss: 6.7286e-05\n",
            "Epoch 43/100\n",
            "93/93 [==============================] - 1s 14ms/step - loss: 1.9596e-06 - val_loss: 7.6733e-05\n",
            "Epoch 44/100\n",
            "93/93 [==============================] - 1s 15ms/step - loss: 1.7673e-06 - val_loss: 3.8045e-05\n",
            "Epoch 45/100\n",
            "93/93 [==============================] - 1s 15ms/step - loss: 2.3007e-06 - val_loss: 4.5632e-05\n",
            "Epoch 46/100\n",
            "93/93 [==============================] - 1s 14ms/step - loss: 1.9471e-06 - val_loss: 5.5358e-05\n",
            "Epoch 47/100\n",
            "93/93 [==============================] - 1s 14ms/step - loss: 2.1257e-06 - val_loss: 3.8868e-05\n",
            "Epoch 48/100\n",
            "93/93 [==============================] - 2s 23ms/step - loss: 2.0811e-06 - val_loss: 4.6114e-05\n",
            "Epoch 49/100\n",
            "93/93 [==============================] - 2s 19ms/step - loss: 1.7082e-06 - val_loss: 4.3035e-05\n",
            "Epoch 50/100\n",
            "93/93 [==============================] - 1s 14ms/step - loss: 1.8738e-06 - val_loss: 4.4728e-05\n",
            "Epoch 51/100\n",
            "93/93 [==============================] - 1s 14ms/step - loss: 2.1123e-06 - val_loss: 4.3428e-05\n",
            "Epoch 52/100\n",
            "93/93 [==============================] - 1s 15ms/step - loss: 2.1276e-06 - val_loss: 6.8646e-05\n",
            "Epoch 53/100\n",
            "93/93 [==============================] - 1s 14ms/step - loss: 2.0028e-06 - val_loss: 3.4944e-05\n",
            "Epoch 54/100\n",
            "93/93 [==============================] - 1s 14ms/step - loss: 1.9122e-06 - val_loss: 1.1575e-04\n",
            "Epoch 55/100\n",
            "93/93 [==============================] - 1s 14ms/step - loss: 2.0627e-06 - val_loss: 4.1487e-05\n",
            "Epoch 56/100\n",
            "93/93 [==============================] - 1s 14ms/step - loss: 2.1714e-06 - val_loss: 4.3479e-05\n",
            "Epoch 57/100\n",
            "93/93 [==============================] - 2s 25ms/step - loss: 2.4596e-06 - val_loss: 3.3644e-05\n",
            "Epoch 58/100\n",
            "93/93 [==============================] - 2s 16ms/step - loss: 1.5810e-06 - val_loss: 5.6428e-05\n",
            "Epoch 59/100\n",
            "93/93 [==============================] - 1s 14ms/step - loss: 2.1391e-06 - val_loss: 4.1416e-05\n",
            "Epoch 60/100\n",
            "93/93 [==============================] - 1s 14ms/step - loss: 1.7865e-06 - val_loss: 3.3302e-05\n",
            "Epoch 61/100\n",
            "93/93 [==============================] - 1s 14ms/step - loss: 2.2693e-06 - val_loss: 1.5026e-04\n",
            "Epoch 62/100\n",
            "93/93 [==============================] - 1s 15ms/step - loss: 2.6467e-06 - val_loss: 4.7148e-05\n",
            "Epoch 63/100\n",
            "93/93 [==============================] - 1s 15ms/step - loss: 3.1514e-06 - val_loss: 3.0546e-05\n",
            "Epoch 64/100\n",
            "93/93 [==============================] - 1s 15ms/step - loss: 1.7463e-06 - val_loss: 7.3826e-05\n",
            "Epoch 65/100\n",
            "93/93 [==============================] - 2s 19ms/step - loss: 2.0923e-06 - val_loss: 8.3763e-05\n",
            "Epoch 66/100\n",
            "93/93 [==============================] - 2s 22ms/step - loss: 1.4439e-06 - val_loss: 3.6989e-05\n",
            "Epoch 67/100\n",
            "93/93 [==============================] - 1s 14ms/step - loss: 1.6936e-06 - val_loss: 4.5414e-05\n",
            "Epoch 68/100\n",
            "93/93 [==============================] - 1s 14ms/step - loss: 1.9085e-06 - val_loss: 3.0428e-05\n",
            "Epoch 69/100\n",
            "93/93 [==============================] - 1s 14ms/step - loss: 1.5873e-06 - val_loss: 3.4739e-05\n",
            "Epoch 70/100\n",
            "93/93 [==============================] - 1s 14ms/step - loss: 1.6551e-06 - val_loss: 2.9040e-05\n",
            "Epoch 71/100\n",
            "93/93 [==============================] - 1s 14ms/step - loss: 1.7451e-06 - val_loss: 3.6601e-05\n",
            "Epoch 72/100\n",
            "93/93 [==============================] - 1s 14ms/step - loss: 1.6794e-06 - val_loss: 3.0317e-05\n",
            "Epoch 73/100\n",
            "93/93 [==============================] - 1s 14ms/step - loss: 1.8377e-06 - val_loss: 2.8694e-05\n",
            "Epoch 74/100\n",
            "93/93 [==============================] - 2s 21ms/step - loss: 1.4776e-06 - val_loss: 2.9940e-05\n",
            "Epoch 75/100\n",
            "93/93 [==============================] - 2s 21ms/step - loss: 1.5311e-06 - val_loss: 3.9167e-05\n",
            "Epoch 76/100\n",
            "93/93 [==============================] - 1s 15ms/step - loss: 1.8101e-06 - val_loss: 5.1578e-05\n",
            "Epoch 77/100\n",
            "93/93 [==============================] - 1s 14ms/step - loss: 1.8240e-06 - val_loss: 5.7436e-05\n",
            "Epoch 78/100\n",
            "93/93 [==============================] - 1s 14ms/step - loss: 1.5763e-06 - val_loss: 6.6153e-05\n",
            "Epoch 79/100\n",
            "93/93 [==============================] - 1s 14ms/step - loss: 2.0684e-06 - val_loss: 4.3539e-05\n",
            "Epoch 80/100\n",
            "93/93 [==============================] - 1s 14ms/step - loss: 1.5330e-06 - val_loss: 3.3905e-05\n",
            "Epoch 81/100\n",
            "93/93 [==============================] - 1s 14ms/step - loss: 1.6999e-06 - val_loss: 5.7417e-05\n",
            "Epoch 82/100\n",
            "93/93 [==============================] - 1s 14ms/step - loss: 1.7151e-06 - val_loss: 3.7782e-05\n",
            "Epoch 83/100\n",
            "93/93 [==============================] - 2s 24ms/step - loss: 1.6485e-06 - val_loss: 4.3404e-05\n",
            "Epoch 84/100\n",
            "93/93 [==============================] - 2s 18ms/step - loss: 1.4953e-06 - val_loss: 2.6496e-05\n",
            "Epoch 85/100\n",
            "93/93 [==============================] - 1s 14ms/step - loss: 1.5500e-06 - val_loss: 6.2013e-05\n",
            "Epoch 86/100\n",
            "93/93 [==============================] - 1s 14ms/step - loss: 1.9002e-06 - val_loss: 3.0329e-05\n",
            "Epoch 87/100\n",
            "93/93 [==============================] - 1s 14ms/step - loss: 1.3922e-06 - val_loss: 2.5373e-05\n",
            "Epoch 88/100\n",
            "93/93 [==============================] - 1s 14ms/step - loss: 1.4583e-06 - val_loss: 2.8889e-05\n",
            "Epoch 89/100\n",
            "93/93 [==============================] - 1s 14ms/step - loss: 1.8623e-06 - val_loss: 3.4322e-05\n",
            "Epoch 90/100\n",
            "93/93 [==============================] - 1s 14ms/step - loss: 1.5616e-06 - val_loss: 6.1150e-05\n",
            "Epoch 91/100\n",
            "93/93 [==============================] - 1s 15ms/step - loss: 2.0972e-06 - val_loss: 2.5461e-05\n",
            "Epoch 92/100\n",
            "93/93 [==============================] - 2s 26ms/step - loss: 1.3892e-06 - val_loss: 3.5471e-05\n",
            "Epoch 93/100\n",
            "93/93 [==============================] - 1s 15ms/step - loss: 1.4310e-06 - val_loss: 2.4807e-05\n",
            "Epoch 94/100\n",
            "93/93 [==============================] - 1s 14ms/step - loss: 1.2232e-06 - val_loss: 2.8111e-05\n",
            "Epoch 95/100\n",
            "93/93 [==============================] - 1s 14ms/step - loss: 1.4606e-06 - val_loss: 4.5415e-05\n",
            "Epoch 96/100\n",
            "93/93 [==============================] - 1s 14ms/step - loss: 1.4496e-06 - val_loss: 2.7411e-05\n",
            "Epoch 97/100\n",
            "93/93 [==============================] - 1s 14ms/step - loss: 1.6917e-06 - val_loss: 3.5899e-05\n",
            "Epoch 98/100\n",
            "93/93 [==============================] - 1s 14ms/step - loss: 1.5242e-06 - val_loss: 6.4690e-05\n",
            "Epoch 99/100\n",
            "93/93 [==============================] - 1s 14ms/step - loss: 1.7949e-06 - val_loss: 3.3604e-05\n",
            "Epoch 100/100\n",
            "93/93 [==============================] - 2s 19ms/step - loss: 1.5603e-06 - val_loss: 2.6873e-05\n"
          ]
        },
        {
          "data": {
            "text/plain": [
              "<keras.callbacks.History at 0x7fe448433670>"
            ]
          },
          "execution_count": 34,
          "metadata": {},
          "output_type": "execute_result"
        }
      ],
      "source": [
        "# Define the modified LSTM model with additional layers or different hyperparameters\n",
        "model = Sequential()\n",
        "model.add(LSTM(units=128, activation='relu', input_shape=(window_size, 1)))\n",
        "model.add(Dense(units=64, activation='relu'))\n",
        "model.add(Dense(units=1))\n",
        "\n",
        "# Compile the modified model\n",
        "model.compile(optimizer='adam', loss='mean_squared_error')\n",
        "\n",
        "# Train the modified model\n",
        "model.fit(X_train, y_train, epochs=100, batch_size=86, validation_data=(X_val, y_val))"
      ]
    },
    {
      "cell_type": "code",
      "execution_count": 51,
      "metadata": {
        "colab": {
          "base_uri": "https://localhost:8080/"
        },
        "id": "S4wP-2_vCA00",
        "outputId": "d89a8e62-9205-40c6-a6e6-a341992512d8"
      },
      "outputs": [
        {
          "name": "stdout",
          "output_type": "stream",
          "text": [
            "31/31 [==============================] - 0s 4ms/step\n"
          ]
        }
      ],
      "source": [
        "# make a prediction\n",
        "model_pred = model.predict(X_test)\n",
        "\n",
        "# Reshape X_test and y_test for concatenation\n",
        "X_test_reshaped = X_test.reshape((X_test.shape[0], X_test.shape[1]))\n",
        "y_test_reshaped = y_test.reshape((len(y_test), 1))\n",
        "\n",
        "# Invert scaling for forecast\n",
        "inv_y_pred= np.concatenate((model_pred, X_test_reshaped), axis=1)\n",
        "inv_y_pred= scaler.inverse_transform(inv_y_pred)\n",
        "inv_y_pred= inv_y_pred[:, 0]\n",
        "\n",
        "# Invert scaling for actual\n",
        "inv_y = np.concatenate((y_test_reshaped, X_test_reshaped), axis=1)\n",
        "inv_y = scaler.inverse_transform(inv_y)\n",
        "inv_y = inv_y[:, 0]"
      ]
    },
    {
      "cell_type": "code",
      "execution_count": 36,
      "metadata": {
        "colab": {
          "base_uri": "https://localhost:8080/"
        },
        "id": "4ofgE1ypFjLH",
        "outputId": "b651ea0e-5dc2-4d38-c7c1-e74dd670743a"
      },
      "outputs": [
        {
          "name": "stdout",
          "output_type": "stream",
          "text": [
            "Test RMSE: 3.856\n",
            "Test MAE: 2.388\n",
            "Test MAPE: 1.281\n"
          ]
        }
      ],
      "source": [
        "# Calculate RMSE\n",
        "rmse = np.sqrt(mean_squared_error(inv_y, inv_y_pred))\n",
        "\n",
        "# Calculate MAE\n",
        "mae = mean_absolute_error(inv_y, inv_y_pred)\n",
        "\n",
        "# Calculate MAPE\n",
        "mape = np.mean(np.abs((inv_y - inv_y_pred) / inv_y)) * 100\n",
        "\n",
        "# Print the evaluation metrics\n",
        "print('Test RMSE: %.3f' % rmse)\n",
        "print('Test MAE: %.3f' % mae)\n",
        "print('Test MAPE: %.3f' % mape)"
      ]
    },
    {
      "cell_type": "code",
      "execution_count": 37,
      "metadata": {
        "colab": {
          "base_uri": "https://localhost:8080/",
          "height": 424
        },
        "id": "28wtjnHvQIDE",
        "outputId": "8bc56fcf-2207-4253-eb93-79d78178987f"
      },
      "outputs": [
        {
          "data": {
            "text/html": [
              "\n",
              "  <div id=\"df-be01d3e4-c42a-4bda-8d5c-349c46b315be\">\n",
              "    <div class=\"colab-df-container\">\n",
              "      <div>\n",
              "<style scoped>\n",
              "    .dataframe tbody tr th:only-of-type {\n",
              "        vertical-align: middle;\n",
              "    }\n",
              "\n",
              "    .dataframe tbody tr th {\n",
              "        vertical-align: top;\n",
              "    }\n",
              "\n",
              "    .dataframe thead th {\n",
              "        text-align: right;\n",
              "    }\n",
              "</style>\n",
              "<table border=\"1\" class=\"dataframe\">\n",
              "  <thead>\n",
              "    <tr style=\"text-align: right;\">\n",
              "      <th></th>\n",
              "      <th>Actual Close Price</th>\n",
              "      <th>Predicted Close Price</th>\n",
              "    </tr>\n",
              "  </thead>\n",
              "  <tbody>\n",
              "    <tr>\n",
              "      <th>0</th>\n",
              "      <td>104.349998</td>\n",
              "      <td>105.462511</td>\n",
              "    </tr>\n",
              "    <tr>\n",
              "      <th>1</th>\n",
              "      <td>97.820000</td>\n",
              "      <td>104.794440</td>\n",
              "    </tr>\n",
              "    <tr>\n",
              "      <th>2</th>\n",
              "      <td>94.830002</td>\n",
              "      <td>99.948633</td>\n",
              "    </tr>\n",
              "    <tr>\n",
              "      <th>3</th>\n",
              "      <td>93.739998</td>\n",
              "      <td>96.341524</td>\n",
              "    </tr>\n",
              "    <tr>\n",
              "      <th>4</th>\n",
              "      <td>93.639999</td>\n",
              "      <td>94.700300</td>\n",
              "    </tr>\n",
              "    <tr>\n",
              "      <th>...</th>\n",
              "      <td>...</td>\n",
              "      <td>...</td>\n",
              "    </tr>\n",
              "    <tr>\n",
              "      <th>986</th>\n",
              "      <td>258.440002</td>\n",
              "      <td>243.224051</td>\n",
              "    </tr>\n",
              "    <tr>\n",
              "      <th>987</th>\n",
              "      <td>247.740005</td>\n",
              "      <td>253.055726</td>\n",
              "    </tr>\n",
              "    <tr>\n",
              "      <th>988</th>\n",
              "      <td>254.809998</td>\n",
              "      <td>249.058603</td>\n",
              "    </tr>\n",
              "    <tr>\n",
              "      <th>989</th>\n",
              "      <td>254.289993</td>\n",
              "      <td>252.723503</td>\n",
              "    </tr>\n",
              "    <tr>\n",
              "      <th>990</th>\n",
              "      <td>240.910004</td>\n",
              "      <td>253.436637</td>\n",
              "    </tr>\n",
              "  </tbody>\n",
              "</table>\n",
              "<p>991 rows × 2 columns</p>\n",
              "</div>\n",
              "      <button class=\"colab-df-convert\" onclick=\"convertToInteractive('df-be01d3e4-c42a-4bda-8d5c-349c46b315be')\"\n",
              "              title=\"Convert this dataframe to an interactive table.\"\n",
              "              style=\"display:none;\">\n",
              "        \n",
              "  <svg xmlns=\"http://www.w3.org/2000/svg\" height=\"24px\"viewBox=\"0 0 24 24\"\n",
              "       width=\"24px\">\n",
              "    <path d=\"M0 0h24v24H0V0z\" fill=\"none\"/>\n",
              "    <path d=\"M18.56 5.44l.94 2.06.94-2.06 2.06-.94-2.06-.94-.94-2.06-.94 2.06-2.06.94zm-11 1L8.5 8.5l.94-2.06 2.06-.94-2.06-.94L8.5 2.5l-.94 2.06-2.06.94zm10 10l.94 2.06.94-2.06 2.06-.94-2.06-.94-.94-2.06-.94 2.06-2.06.94z\"/><path d=\"M17.41 7.96l-1.37-1.37c-.4-.4-.92-.59-1.43-.59-.52 0-1.04.2-1.43.59L10.3 9.45l-7.72 7.72c-.78.78-.78 2.05 0 2.83L4 21.41c.39.39.9.59 1.41.59.51 0 1.02-.2 1.41-.59l7.78-7.78 2.81-2.81c.8-.78.8-2.07 0-2.86zM5.41 20L4 18.59l7.72-7.72 1.47 1.35L5.41 20z\"/>\n",
              "  </svg>\n",
              "      </button>\n",
              "      \n",
              "  <style>\n",
              "    .colab-df-container {\n",
              "      display:flex;\n",
              "      flex-wrap:wrap;\n",
              "      gap: 12px;\n",
              "    }\n",
              "\n",
              "    .colab-df-convert {\n",
              "      background-color: #E8F0FE;\n",
              "      border: none;\n",
              "      border-radius: 50%;\n",
              "      cursor: pointer;\n",
              "      display: none;\n",
              "      fill: #1967D2;\n",
              "      height: 32px;\n",
              "      padding: 0 0 0 0;\n",
              "      width: 32px;\n",
              "    }\n",
              "\n",
              "    .colab-df-convert:hover {\n",
              "      background-color: #E2EBFA;\n",
              "      box-shadow: 0px 1px 2px rgba(60, 64, 67, 0.3), 0px 1px 3px 1px rgba(60, 64, 67, 0.15);\n",
              "      fill: #174EA6;\n",
              "    }\n",
              "\n",
              "    [theme=dark] .colab-df-convert {\n",
              "      background-color: #3B4455;\n",
              "      fill: #D2E3FC;\n",
              "    }\n",
              "\n",
              "    [theme=dark] .colab-df-convert:hover {\n",
              "      background-color: #434B5C;\n",
              "      box-shadow: 0px 1px 3px 1px rgba(0, 0, 0, 0.15);\n",
              "      filter: drop-shadow(0px 1px 2px rgba(0, 0, 0, 0.3));\n",
              "      fill: #FFFFFF;\n",
              "    }\n",
              "  </style>\n",
              "\n",
              "      <script>\n",
              "        const buttonEl =\n",
              "          document.querySelector('#df-be01d3e4-c42a-4bda-8d5c-349c46b315be button.colab-df-convert');\n",
              "        buttonEl.style.display =\n",
              "          google.colab.kernel.accessAllowed ? 'block' : 'none';\n",
              "\n",
              "        async function convertToInteractive(key) {\n",
              "          const element = document.querySelector('#df-be01d3e4-c42a-4bda-8d5c-349c46b315be');\n",
              "          const dataTable =\n",
              "            await google.colab.kernel.invokeFunction('convertToInteractive',\n",
              "                                                     [key], {});\n",
              "          if (!dataTable) return;\n",
              "\n",
              "          const docLinkHtml = 'Like what you see? Visit the ' +\n",
              "            '<a target=\"_blank\" href=https://colab.research.google.com/notebooks/data_table.ipynb>data table notebook</a>'\n",
              "            + ' to learn more about interactive tables.';\n",
              "          element.innerHTML = '';\n",
              "          dataTable['output_type'] = 'display_data';\n",
              "          await google.colab.output.renderOutput(dataTable, element);\n",
              "          const docLink = document.createElement('div');\n",
              "          docLink.innerHTML = docLinkHtml;\n",
              "          element.appendChild(docLink);\n",
              "        }\n",
              "      </script>\n",
              "    </div>\n",
              "  </div>\n",
              "  "
            ],
            "text/plain": [
              "     Actual Close Price  Predicted Close Price\n",
              "0            104.349998             105.462511\n",
              "1             97.820000             104.794440\n",
              "2             94.830002              99.948633\n",
              "3             93.739998              96.341524\n",
              "4             93.639999              94.700300\n",
              "..                  ...                    ...\n",
              "986          258.440002             243.224051\n",
              "987          247.740005             253.055726\n",
              "988          254.809998             249.058603\n",
              "989          254.289993             252.723503\n",
              "990          240.910004             253.436637\n",
              "\n",
              "[991 rows x 2 columns]"
            ]
          },
          "execution_count": 37,
          "metadata": {},
          "output_type": "execute_result"
        }
      ],
      "source": [
        "#Show Actual vs Predicted\n",
        "result_comp = pd.DataFrame(list(zip(inv_y, inv_y_pred)),\n",
        "               columns =['Actual Close Price', 'Predicted Close Price'])\n",
        "result_comp"
      ]
    },
    {
      "cell_type": "markdown",
      "metadata": {
        "id": "9AA8qUTNLcyT"
      },
      "source": [
        "Dapat dilihat ternyata menggunakan parameter seperti LSTM sebelumnya cukup menghasikan metrics eval yang sudah baik, tetapi disini saya akan mencoba memodifikasi agar mendapat hasil lebih rendah"
      ]
    },
    {
      "cell_type": "markdown",
      "metadata": {
        "id": "bkwHCmmTENf7"
      },
      "source": [
        "**Modifikasi LSTM AAPL**"
      ]
    },
    {
      "cell_type": "markdown",
      "metadata": {
        "id": "Ba3JpX2lK7VK"
      },
      "source": [
        "Model 2"
      ]
    },
    {
      "cell_type": "markdown",
      "metadata": {
        "id": "XhnJrRbqM6Mg"
      },
      "source": [
        "LSTM MODEL 2:\n",
        "Saya memodifikasi dengan cara menambahkan layer LSTM tambahan dengan epoch 50 dan mengubah batch size menjadi 32. Selain itu, saya juga akan menambahkan layer Dense tambahan dengan aktivasi 'relu' dan jumlah unit 64."
      ]
    },
    {
      "cell_type": "code",
      "execution_count": 39,
      "metadata": {
        "colab": {
          "base_uri": "https://localhost:8080/"
        },
        "id": "19SGcYBuHSfw",
        "outputId": "cd82785a-b2b6-4062-868d-e72fd1968191"
      },
      "outputs": [
        {
          "name": "stdout",
          "output_type": "stream",
          "text": [
            "Epoch 1/50\n",
            "248/248 [==============================] - 10s 21ms/step - loss: 9.1252e-05 - val_loss: 9.8724e-05\n",
            "Epoch 2/50\n",
            "248/248 [==============================] - 6s 24ms/step - loss: 4.6730e-06 - val_loss: 8.2370e-05\n",
            "Epoch 3/50\n",
            "248/248 [==============================] - 4s 18ms/step - loss: 5.5568e-06 - val_loss: 7.4492e-04\n",
            "Epoch 4/50\n",
            "248/248 [==============================] - 7s 29ms/step - loss: 5.3543e-06 - val_loss: 6.1675e-05\n",
            "Epoch 5/50\n",
            "248/248 [==============================] - 4s 15ms/step - loss: 5.5590e-06 - val_loss: 8.5314e-05\n",
            "Epoch 6/50\n",
            "248/248 [==============================] - 4s 17ms/step - loss: 5.8494e-06 - val_loss: 5.4538e-05\n",
            "Epoch 7/50\n",
            "248/248 [==============================] - 7s 26ms/step - loss: 3.7321e-06 - val_loss: 5.9826e-05\n",
            "Epoch 8/50\n",
            "248/248 [==============================] - 5s 19ms/step - loss: 4.5307e-06 - val_loss: 6.7027e-05\n",
            "Epoch 9/50\n",
            "248/248 [==============================] - 5s 21ms/step - loss: 4.9293e-06 - val_loss: 1.2524e-04\n",
            "Epoch 10/50\n",
            "248/248 [==============================] - 4s 15ms/step - loss: 4.7135e-06 - val_loss: 5.1171e-05\n",
            "Epoch 11/50\n",
            "248/248 [==============================] - 4s 15ms/step - loss: 4.0717e-06 - val_loss: 5.2676e-05\n",
            "Epoch 12/50\n",
            "248/248 [==============================] - 5s 20ms/step - loss: 5.2278e-06 - val_loss: 5.3841e-05\n",
            "Epoch 13/50\n",
            "248/248 [==============================] - 4s 15ms/step - loss: 4.6966e-06 - val_loss: 7.9705e-05\n",
            "Epoch 14/50\n",
            "248/248 [==============================] - 4s 15ms/step - loss: 3.5544e-06 - val_loss: 4.8193e-05\n",
            "Epoch 15/50\n",
            "248/248 [==============================] - 5s 19ms/step - loss: 4.3262e-06 - val_loss: 5.0399e-05\n",
            "Epoch 16/50\n",
            "248/248 [==============================] - 4s 16ms/step - loss: 5.1888e-06 - val_loss: 9.6531e-05\n",
            "Epoch 17/50\n",
            "248/248 [==============================] - 4s 16ms/step - loss: 4.7082e-06 - val_loss: 2.2083e-04\n",
            "Epoch 18/50\n",
            "248/248 [==============================] - 5s 19ms/step - loss: 4.3014e-06 - val_loss: 7.7169e-05\n",
            "Epoch 19/50\n",
            "248/248 [==============================] - 4s 16ms/step - loss: 4.7995e-06 - val_loss: 1.1090e-04\n",
            "Epoch 20/50\n",
            "248/248 [==============================] - 4s 15ms/step - loss: 4.1099e-06 - val_loss: 4.8373e-05\n",
            "Epoch 21/50\n",
            "248/248 [==============================] - 5s 18ms/step - loss: 3.0291e-06 - val_loss: 4.1788e-05\n",
            "Epoch 22/50\n",
            "248/248 [==============================] - 4s 16ms/step - loss: 3.6207e-06 - val_loss: 5.3070e-05\n",
            "Epoch 23/50\n",
            "248/248 [==============================] - 4s 15ms/step - loss: 3.1006e-06 - val_loss: 7.2238e-05\n",
            "Epoch 24/50\n",
            "248/248 [==============================] - 4s 18ms/step - loss: 4.5731e-06 - val_loss: 9.5879e-05\n",
            "Epoch 25/50\n",
            "248/248 [==============================] - 4s 17ms/step - loss: 3.0577e-06 - val_loss: 1.9101e-04\n",
            "Epoch 26/50\n",
            "248/248 [==============================] - 4s 15ms/step - loss: 2.9871e-06 - val_loss: 3.5344e-04\n",
            "Epoch 27/50\n",
            "248/248 [==============================] - 4s 17ms/step - loss: 3.5490e-06 - val_loss: 8.6848e-05\n",
            "Epoch 28/50\n",
            "248/248 [==============================] - 5s 21ms/step - loss: 2.4641e-06 - val_loss: 9.5713e-05\n",
            "Epoch 29/50\n",
            "248/248 [==============================] - 4s 15ms/step - loss: 4.8897e-06 - val_loss: 5.1640e-05\n",
            "Epoch 30/50\n",
            "248/248 [==============================] - 4s 17ms/step - loss: 3.1557e-06 - val_loss: 4.0103e-05\n",
            "Epoch 31/50\n",
            "248/248 [==============================] - 4s 18ms/step - loss: 3.2719e-06 - val_loss: 3.2803e-05\n",
            "Epoch 32/50\n",
            "248/248 [==============================] - 4s 15ms/step - loss: 2.1446e-06 - val_loss: 3.0469e-05\n",
            "Epoch 33/50\n",
            "248/248 [==============================] - 4s 16ms/step - loss: 2.3851e-06 - val_loss: 5.4778e-05\n",
            "Epoch 34/50\n",
            "248/248 [==============================] - 5s 19ms/step - loss: 2.2330e-06 - val_loss: 3.0571e-05\n",
            "Epoch 35/50\n",
            "248/248 [==============================] - 4s 15ms/step - loss: 2.1880e-06 - val_loss: 3.2186e-05\n",
            "Epoch 36/50\n",
            "248/248 [==============================] - 4s 16ms/step - loss: 2.0525e-06 - val_loss: 2.6608e-05\n",
            "Epoch 37/50\n",
            "248/248 [==============================] - 5s 19ms/step - loss: 2.7703e-06 - val_loss: 2.8618e-05\n",
            "Epoch 38/50\n",
            "248/248 [==============================] - 5s 20ms/step - loss: 1.9602e-06 - val_loss: 4.5480e-05\n",
            "Epoch 39/50\n",
            "248/248 [==============================] - 4s 18ms/step - loss: 3.1964e-06 - val_loss: 7.8484e-05\n",
            "Epoch 40/50\n",
            "248/248 [==============================] - 4s 17ms/step - loss: 1.8610e-06 - val_loss: 4.7974e-05\n",
            "Epoch 41/50\n",
            "248/248 [==============================] - 4s 16ms/step - loss: 2.2167e-06 - val_loss: 2.5038e-05\n",
            "Epoch 42/50\n",
            "248/248 [==============================] - 4s 18ms/step - loss: 2.6058e-06 - val_loss: 7.7827e-05\n",
            "Epoch 43/50\n",
            "248/248 [==============================] - 4s 18ms/step - loss: 2.0156e-06 - val_loss: 8.2610e-05\n",
            "Epoch 44/50\n",
            "248/248 [==============================] - 4s 15ms/step - loss: 1.9384e-06 - val_loss: 6.2629e-05\n",
            "Epoch 45/50\n",
            "248/248 [==============================] - 4s 17ms/step - loss: 2.3862e-06 - val_loss: 2.3037e-05\n",
            "Epoch 46/50\n",
            "248/248 [==============================] - 5s 22ms/step - loss: 1.6309e-06 - val_loss: 2.3547e-05\n",
            "Epoch 47/50\n",
            "248/248 [==============================] - 4s 15ms/step - loss: 1.8143e-06 - val_loss: 2.6391e-05\n",
            "Epoch 48/50\n",
            "248/248 [==============================] - 5s 19ms/step - loss: 2.3139e-06 - val_loss: 2.3161e-05\n",
            "Epoch 49/50\n",
            "248/248 [==============================] - 4s 16ms/step - loss: 2.8669e-06 - val_loss: 2.8114e-05\n",
            "Epoch 50/50\n",
            "248/248 [==============================] - 4s 15ms/step - loss: 1.6330e-06 - val_loss: 2.6996e-05\n"
          ]
        },
        {
          "data": {
            "text/plain": [
              "<keras.callbacks.History at 0x7fe438113310>"
            ]
          },
          "execution_count": 39,
          "metadata": {},
          "output_type": "execute_result"
        }
      ],
      "source": [
        "# Build the LSTM model\n",
        "model2 = Sequential()\n",
        "model2.add(LSTM(128, return_sequences=True, input_shape= (window_size, 1)))\n",
        "model2.add(LSTM(64, return_sequences=False))\n",
        "model2.add(Dense(25))\n",
        "model2.add(Dense(1))\n",
        "\n",
        "# Compile the model\n",
        "model2.compile(optimizer='adam', loss='mean_squared_error')\n",
        "\n",
        "# Train the model\n",
        "model2.fit(X_train, y_train, epochs=50, batch_size=32, validation_data=(X_val, y_val))"
      ]
    },
    {
      "cell_type": "code",
      "execution_count": 40,
      "metadata": {
        "colab": {
          "base_uri": "https://localhost:8080/"
        },
        "id": "Lu1me4RlHXV0",
        "outputId": "6942fb50-e63b-4ec1-b962-318151c2f4a5"
      },
      "outputs": [
        {
          "name": "stdout",
          "output_type": "stream",
          "text": [
            "31/31 [==============================] - 1s 6ms/step\n"
          ]
        }
      ],
      "source": [
        "# make a prediction\n",
        "model_pred = model2.predict(X_test)\n",
        "\n",
        "# Reshape X_test and y_test for concatenation\n",
        "X_test_reshaped = X_test.reshape((X_test.shape[0], X_test.shape[1]))\n",
        "y_test_reshaped = y_test.reshape((len(y_test), 1))\n",
        "\n",
        "# Invert scaling for forecast\n",
        "inv_y_pred= np.concatenate((model_pred, X_test_reshaped), axis=1)\n",
        "inv_y_pred= scaler.inverse_transform(inv_y_pred)\n",
        "inv_y_pred= inv_y_pred[:, 0]\n",
        "\n",
        "# Invert scaling for actual\n",
        "inv_y = np.concatenate((y_test_reshaped, X_test_reshaped), axis=1)\n",
        "inv_y = scaler.inverse_transform(inv_y)\n",
        "inv_y = inv_y[:, 0]"
      ]
    },
    {
      "cell_type": "code",
      "execution_count": 41,
      "metadata": {
        "colab": {
          "base_uri": "https://localhost:8080/"
        },
        "id": "A8TjaaYNI-Uo",
        "outputId": "b387de54-81f1-4965-a7ec-f087ab3b2810"
      },
      "outputs": [
        {
          "name": "stdout",
          "output_type": "stream",
          "text": [
            "Test RMSE: 4.788\n",
            "Test MAE: 2.907\n",
            "Test MAPE: 1.457\n"
          ]
        }
      ],
      "source": [
        "from sklearn.metrics import mean_squared_error, mean_absolute_error\n",
        "\n",
        "# Calculate RMSE\n",
        "rmse2 = np.sqrt(mean_squared_error(inv_y, inv_y_pred))\n",
        "\n",
        "# Calculate MAE\n",
        "mae2 = mean_absolute_error(inv_y, inv_y_pred)\n",
        "\n",
        "# Calculate MAPE\n",
        "mape2 = np.mean(np.abs((inv_y - inv_y_pred) / inv_y)) * 100\n",
        "\n",
        "# Print the evaluation metrics\n",
        "print('Test RMSE: %.3f' % rmse2)\n",
        "print('Test MAE: %.3f' % mae2)\n",
        "print('Test MAPE: %.3f' % mape2)\n"
      ]
    },
    {
      "cell_type": "code",
      "execution_count": 42,
      "metadata": {
        "colab": {
          "base_uri": "https://localhost:8080/",
          "height": 424
        },
        "id": "A0ALFVTQKQlj",
        "outputId": "22737a4e-b6fc-4a29-c1a7-f31b74045aa6"
      },
      "outputs": [
        {
          "data": {
            "text/html": [
              "\n",
              "  <div id=\"df-179044d4-824e-49d5-9956-eedaff67e76f\">\n",
              "    <div class=\"colab-df-container\">\n",
              "      <div>\n",
              "<style scoped>\n",
              "    .dataframe tbody tr th:only-of-type {\n",
              "        vertical-align: middle;\n",
              "    }\n",
              "\n",
              "    .dataframe tbody tr th {\n",
              "        vertical-align: top;\n",
              "    }\n",
              "\n",
              "    .dataframe thead th {\n",
              "        text-align: right;\n",
              "    }\n",
              "</style>\n",
              "<table border=\"1\" class=\"dataframe\">\n",
              "  <thead>\n",
              "    <tr style=\"text-align: right;\">\n",
              "      <th></th>\n",
              "      <th>Actual Close Price</th>\n",
              "      <th>Predicted Close Price</th>\n",
              "    </tr>\n",
              "  </thead>\n",
              "  <tbody>\n",
              "    <tr>\n",
              "      <th>0</th>\n",
              "      <td>104.349998</td>\n",
              "      <td>106.011034</td>\n",
              "    </tr>\n",
              "    <tr>\n",
              "      <th>1</th>\n",
              "      <td>97.820000</td>\n",
              "      <td>105.318015</td>\n",
              "    </tr>\n",
              "    <tr>\n",
              "      <th>2</th>\n",
              "      <td>94.830002</td>\n",
              "      <td>99.036974</td>\n",
              "    </tr>\n",
              "    <tr>\n",
              "      <th>3</th>\n",
              "      <td>93.739998</td>\n",
              "      <td>96.762957</td>\n",
              "    </tr>\n",
              "    <tr>\n",
              "      <th>4</th>\n",
              "      <td>93.639999</td>\n",
              "      <td>95.629218</td>\n",
              "    </tr>\n",
              "    <tr>\n",
              "      <th>...</th>\n",
              "      <td>...</td>\n",
              "      <td>...</td>\n",
              "    </tr>\n",
              "    <tr>\n",
              "      <th>986</th>\n",
              "      <td>258.440002</td>\n",
              "      <td>239.560945</td>\n",
              "    </tr>\n",
              "    <tr>\n",
              "      <th>987</th>\n",
              "      <td>247.740005</td>\n",
              "      <td>252.271527</td>\n",
              "    </tr>\n",
              "    <tr>\n",
              "      <th>988</th>\n",
              "      <td>254.809998</td>\n",
              "      <td>240.997036</td>\n",
              "    </tr>\n",
              "    <tr>\n",
              "      <th>989</th>\n",
              "      <td>254.289993</td>\n",
              "      <td>250.481753</td>\n",
              "    </tr>\n",
              "    <tr>\n",
              "      <th>990</th>\n",
              "      <td>240.910004</td>\n",
              "      <td>248.902520</td>\n",
              "    </tr>\n",
              "  </tbody>\n",
              "</table>\n",
              "<p>991 rows × 2 columns</p>\n",
              "</div>\n",
              "      <button class=\"colab-df-convert\" onclick=\"convertToInteractive('df-179044d4-824e-49d5-9956-eedaff67e76f')\"\n",
              "              title=\"Convert this dataframe to an interactive table.\"\n",
              "              style=\"display:none;\">\n",
              "        \n",
              "  <svg xmlns=\"http://www.w3.org/2000/svg\" height=\"24px\"viewBox=\"0 0 24 24\"\n",
              "       width=\"24px\">\n",
              "    <path d=\"M0 0h24v24H0V0z\" fill=\"none\"/>\n",
              "    <path d=\"M18.56 5.44l.94 2.06.94-2.06 2.06-.94-2.06-.94-.94-2.06-.94 2.06-2.06.94zm-11 1L8.5 8.5l.94-2.06 2.06-.94-2.06-.94L8.5 2.5l-.94 2.06-2.06.94zm10 10l.94 2.06.94-2.06 2.06-.94-2.06-.94-.94-2.06-.94 2.06-2.06.94z\"/><path d=\"M17.41 7.96l-1.37-1.37c-.4-.4-.92-.59-1.43-.59-.52 0-1.04.2-1.43.59L10.3 9.45l-7.72 7.72c-.78.78-.78 2.05 0 2.83L4 21.41c.39.39.9.59 1.41.59.51 0 1.02-.2 1.41-.59l7.78-7.78 2.81-2.81c.8-.78.8-2.07 0-2.86zM5.41 20L4 18.59l7.72-7.72 1.47 1.35L5.41 20z\"/>\n",
              "  </svg>\n",
              "      </button>\n",
              "      \n",
              "  <style>\n",
              "    .colab-df-container {\n",
              "      display:flex;\n",
              "      flex-wrap:wrap;\n",
              "      gap: 12px;\n",
              "    }\n",
              "\n",
              "    .colab-df-convert {\n",
              "      background-color: #E8F0FE;\n",
              "      border: none;\n",
              "      border-radius: 50%;\n",
              "      cursor: pointer;\n",
              "      display: none;\n",
              "      fill: #1967D2;\n",
              "      height: 32px;\n",
              "      padding: 0 0 0 0;\n",
              "      width: 32px;\n",
              "    }\n",
              "\n",
              "    .colab-df-convert:hover {\n",
              "      background-color: #E2EBFA;\n",
              "      box-shadow: 0px 1px 2px rgba(60, 64, 67, 0.3), 0px 1px 3px 1px rgba(60, 64, 67, 0.15);\n",
              "      fill: #174EA6;\n",
              "    }\n",
              "\n",
              "    [theme=dark] .colab-df-convert {\n",
              "      background-color: #3B4455;\n",
              "      fill: #D2E3FC;\n",
              "    }\n",
              "\n",
              "    [theme=dark] .colab-df-convert:hover {\n",
              "      background-color: #434B5C;\n",
              "      box-shadow: 0px 1px 3px 1px rgba(0, 0, 0, 0.15);\n",
              "      filter: drop-shadow(0px 1px 2px rgba(0, 0, 0, 0.3));\n",
              "      fill: #FFFFFF;\n",
              "    }\n",
              "  </style>\n",
              "\n",
              "      <script>\n",
              "        const buttonEl =\n",
              "          document.querySelector('#df-179044d4-824e-49d5-9956-eedaff67e76f button.colab-df-convert');\n",
              "        buttonEl.style.display =\n",
              "          google.colab.kernel.accessAllowed ? 'block' : 'none';\n",
              "\n",
              "        async function convertToInteractive(key) {\n",
              "          const element = document.querySelector('#df-179044d4-824e-49d5-9956-eedaff67e76f');\n",
              "          const dataTable =\n",
              "            await google.colab.kernel.invokeFunction('convertToInteractive',\n",
              "                                                     [key], {});\n",
              "          if (!dataTable) return;\n",
              "\n",
              "          const docLinkHtml = 'Like what you see? Visit the ' +\n",
              "            '<a target=\"_blank\" href=https://colab.research.google.com/notebooks/data_table.ipynb>data table notebook</a>'\n",
              "            + ' to learn more about interactive tables.';\n",
              "          element.innerHTML = '';\n",
              "          dataTable['output_type'] = 'display_data';\n",
              "          await google.colab.output.renderOutput(dataTable, element);\n",
              "          const docLink = document.createElement('div');\n",
              "          docLink.innerHTML = docLinkHtml;\n",
              "          element.appendChild(docLink);\n",
              "        }\n",
              "      </script>\n",
              "    </div>\n",
              "  </div>\n",
              "  "
            ],
            "text/plain": [
              "     Actual Close Price  Predicted Close Price\n",
              "0            104.349998             106.011034\n",
              "1             97.820000             105.318015\n",
              "2             94.830002              99.036974\n",
              "3             93.739998              96.762957\n",
              "4             93.639999              95.629218\n",
              "..                  ...                    ...\n",
              "986          258.440002             239.560945\n",
              "987          247.740005             252.271527\n",
              "988          254.809998             240.997036\n",
              "989          254.289993             250.481753\n",
              "990          240.910004             248.902520\n",
              "\n",
              "[991 rows x 2 columns]"
            ]
          },
          "execution_count": 42,
          "metadata": {},
          "output_type": "execute_result"
        }
      ],
      "source": [
        "#Show Actual vs Predicted\n",
        "result_comp2 = pd.DataFrame(list(zip(inv_y, inv_y_pred)),\n",
        "               columns =['Actual Close Price', 'Predicted Close Price'])\n",
        "result_comp2"
      ]
    },
    {
      "cell_type": "code",
      "execution_count": 45,
      "metadata": {
        "colab": {
          "base_uri": "https://localhost:8080/"
        },
        "id": "qcD9PdnSQ1zA",
        "outputId": "a796935f-ef8c-4543-8fc5-5d406ba95af8"
      },
      "outputs": [
        {
          "name": "stdout",
          "output_type": "stream",
          "text": [
            "LSTM MODEL 1\n",
            "Test RMSE: 3.856\n",
            "Test MAE: 2.388\n",
            "Test MAPE: 1.281\n",
            "\n",
            "LSTM MODEL 2\n",
            "Test RMSE: 4.788\n",
            "Test MAE: 2.907\n",
            "Test MAPE: 1.457\n"
          ]
        }
      ],
      "source": [
        "# Print the evaluation metrics\n",
        "print(\"LSTM MODEL 1\")\n",
        "print('Test RMSE: %.3f' % rmse)\n",
        "print('Test MAE: %.3f' % mae)\n",
        "print('Test MAPE: %.3f' % mape)\n",
        "print()\n",
        "# Print the evaluation metrics\n",
        "print(\"LSTM MODEL 2\")\n",
        "print('Test RMSE: %.3f' % rmse2)\n",
        "print('Test MAE: %.3f' % mae2)\n",
        "print('Test MAPE: %.3f' % mape2)"
      ]
    },
    {
      "cell_type": "markdown",
      "metadata": {
        "id": "ClxX4_jDW9is"
      },
      "source": [
        "Dilihat dari metrik yang disediakan, kita dapat melihat perbedaan kinerja antara kedua model ini.\n",
        "\n",
        "Model LSTM 2 memiliki nilai RMSE yang lebih tinggi, yaitu sebesar 4.788. Ini menunjukkan bahwa prediksi model ini memiliki kesalahan rata-rata yang lebih besar dalam memprediksi close price dibandingkan dengan model LSTM 1 yang memiliki RMSE sebesar 3.856. Dengan kata lain, model LSTM 1 cenderung memberikan hasil prediksi yang lebih dekat dengan close price yang sebenarnya.\n",
        "\n",
        "Selain itu, model LSTM 1 juga memiliki nilai MAE dan MAPE yang lebih rendah dibandingkan dengan model LSTM 2. MAE pada model LSTM 1 adalah 2.388, yang menunjukkan bahwa rata-rata kesalahan absolut dalam prediksi close price cenderung lebih kecil dibandingkan dengan model LSTM 2 yang memiliki MAE 2.907. Sementara itu, MAPE pada model LSTM 1 adalah 1.281, yang menunjukkan bahwa rata-rata persentase kesalahan absolut dalam prediksi close price juga lebih rendah dibandingkan dengan model LSTM 2 yang memiliki MAPE 1.457.\n",
        "\n",
        "Berdasarkan analisis ini, dapat disimpulkan bahwa model LSTM 1 lebih baik dalam memprediksi close price pada dataset pasar saham. Model ini memberikan hasil prediksi yang lebih akurat dengan nilai RMSE, MAE, dan MAPE yang lebih rendah dibandingkan dengan model LSTM 2."
      ]
    },
    {
      "cell_type": "code",
      "execution_count": 44,
      "metadata": {
        "colab": {
          "base_uri": "https://localhost:8080/"
        },
        "id": "PpcFJhCMRFqT",
        "outputId": "af944913-bf39-4ffd-9995-b75288208d9e"
      },
      "outputs": [
        {
          "name": "stdout",
          "output_type": "stream",
          "text": [
            "Model 1 Results:\n",
            "     Actual Close Price  Predicted Close Price\n",
            "0            104.349998             105.462511\n",
            "1             97.820000             104.794440\n",
            "2             94.830002              99.948633\n",
            "3             93.739998              96.341524\n",
            "4             93.639999              94.700300\n",
            "..                  ...                    ...\n",
            "986          258.440002             243.224051\n",
            "987          247.740005             253.055726\n",
            "988          254.809998             249.058603\n",
            "989          254.289993             252.723503\n",
            "990          240.910004             253.436637\n",
            "\n",
            "[991 rows x 2 columns]\n",
            "\n",
            "Model 2 Results:\n",
            "     Actual Close Price  Predicted Close Price\n",
            "0            104.349998             106.011034\n",
            "1             97.820000             105.318015\n",
            "2             94.830002              99.036974\n",
            "3             93.739998              96.762957\n",
            "4             93.639999              95.629218\n",
            "..                  ...                    ...\n",
            "986          258.440002             239.560945\n",
            "987          247.740005             252.271527\n",
            "988          254.809998             240.997036\n",
            "989          254.289993             250.481753\n",
            "990          240.910004             248.902520\n",
            "\n",
            "[991 rows x 2 columns]\n"
          ]
        }
      ],
      "source": [
        "# Print all  modeling results\n",
        "print(\"Model 1 Results:\")\n",
        "print(result_comp)\n",
        "\n",
        "print(\"\\nModel 2 Results:\")\n",
        "print(result_comp2)"
      ]
    },
    {
      "cell_type": "markdown",
      "metadata": {
        "id": "WaZY3gENYDQf"
      },
      "source": [
        "Berdasarkan analisis ini, dapat disimpulkan bahwa model LSTM 1 lebih baik dalam memprediksi close price pada dataset stock marker, maka saya menggunakan model 2 untu final model lalu melakukan ploting model"
      ]
    },
    {
      "cell_type": "code",
      "execution_count": 53,
      "metadata": {
        "colab": {
          "base_uri": "https://localhost:8080/",
          "height": 546
        },
        "id": "wC_MLNARKu2d",
        "outputId": "e36b9167-ffbc-41c1-a5f5-45262fcc264d"
      },
      "outputs": [
        {
          "name": "stdout",
          "output_type": "stream",
          "text": [
            "31/31 [==============================] - 0s 6ms/step\n"
          ]
        },
        {
          "data": {
            "image/png": "[encoded data removed]",
            "text/plain": [
              "<Figure size 1200x600 with 1 Axes>"
            ]
          },
          "metadata": {},
          "output_type": "display_data"
        }
      ],
      "source": [
        "#For plotting\n",
        "y_pred= model.predict(X_test)\n",
        "y_test_index = data.index[-len(y_test):]\n",
        "y_pred_index = data.index[-len(y_pred):]\n",
        "#Ploting predicted vs actual\n",
        "fig, ax = plt.subplots(figsize=(12, 6))\n",
        "plt.plot(y_test_index, y_test, label='Actual AAPL Close Price')\n",
        "plt.plot(y_pred_index, y_pred, label='Predicted AAPL Close Price')\n",
        "plt.title('AAPL Close Price Actual vs Prediction')\n",
        "plt.xlabel('Year')\n",
        "plt.ylabel('AAPL Close Price')\n",
        "plt.legend()\n",
        "plt.show()"
      ]
    },
    {
      "cell_type": "markdown",
      "metadata": {
        "id": "cxCTNA3QLICr"
      },
      "source": [
        "Bisa dilihat dari hasil ploting modeling 2 pada dataset aapl menunjukan bahwa prediksi close price berhasil dilakukan dengan diagram menunjukan predicted price mempunyai pola yang sama dengan actual"
      ]
    }
  ],
  "metadata": {
    "colab": {
      "provenance": []
    },
    "kernelspec": {
      "display_name": "Python 3",
      "name": "python3"
    },
    "language_info": {
      "name": "python"
    }
  },
  "nbformat": 4,
  "nbformat_minor": 0
}
